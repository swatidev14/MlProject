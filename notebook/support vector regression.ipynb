{
 "cells": [
  {
   "cell_type": "code",
   "execution_count": 84,
   "metadata": {},
   "outputs": [],
   "source": [
    "import seaborn as sns"
   ]
  },
  {
   "cell_type": "code",
   "execution_count": 85,
   "metadata": {},
   "outputs": [],
   "source": [
    "df = sns.load_dataset('tips')"
   ]
  },
  {
   "cell_type": "code",
   "execution_count": 86,
   "metadata": {},
   "outputs": [
    {
     "data": {
      "text/html": [
       "<div>\n",
       "<style scoped>\n",
       "    .dataframe tbody tr th:only-of-type {\n",
       "        vertical-align: middle;\n",
       "    }\n",
       "\n",
       "    .dataframe tbody tr th {\n",
       "        vertical-align: top;\n",
       "    }\n",
       "\n",
       "    .dataframe thead th {\n",
       "        text-align: right;\n",
       "    }\n",
       "</style>\n",
       "<table border=\"1\" class=\"dataframe\">\n",
       "  <thead>\n",
       "    <tr style=\"text-align: right;\">\n",
       "      <th></th>\n",
       "      <th>total_bill</th>\n",
       "      <th>tip</th>\n",
       "      <th>sex</th>\n",
       "      <th>smoker</th>\n",
       "      <th>day</th>\n",
       "      <th>time</th>\n",
       "      <th>size</th>\n",
       "    </tr>\n",
       "  </thead>\n",
       "  <tbody>\n",
       "    <tr>\n",
       "      <th>0</th>\n",
       "      <td>16.99</td>\n",
       "      <td>1.01</td>\n",
       "      <td>Female</td>\n",
       "      <td>No</td>\n",
       "      <td>Sun</td>\n",
       "      <td>Dinner</td>\n",
       "      <td>2</td>\n",
       "    </tr>\n",
       "    <tr>\n",
       "      <th>1</th>\n",
       "      <td>10.34</td>\n",
       "      <td>1.66</td>\n",
       "      <td>Male</td>\n",
       "      <td>No</td>\n",
       "      <td>Sun</td>\n",
       "      <td>Dinner</td>\n",
       "      <td>3</td>\n",
       "    </tr>\n",
       "    <tr>\n",
       "      <th>2</th>\n",
       "      <td>21.01</td>\n",
       "      <td>3.50</td>\n",
       "      <td>Male</td>\n",
       "      <td>No</td>\n",
       "      <td>Sun</td>\n",
       "      <td>Dinner</td>\n",
       "      <td>3</td>\n",
       "    </tr>\n",
       "    <tr>\n",
       "      <th>3</th>\n",
       "      <td>23.68</td>\n",
       "      <td>3.31</td>\n",
       "      <td>Male</td>\n",
       "      <td>No</td>\n",
       "      <td>Sun</td>\n",
       "      <td>Dinner</td>\n",
       "      <td>2</td>\n",
       "    </tr>\n",
       "    <tr>\n",
       "      <th>4</th>\n",
       "      <td>24.59</td>\n",
       "      <td>3.61</td>\n",
       "      <td>Female</td>\n",
       "      <td>No</td>\n",
       "      <td>Sun</td>\n",
       "      <td>Dinner</td>\n",
       "      <td>4</td>\n",
       "    </tr>\n",
       "  </tbody>\n",
       "</table>\n",
       "</div>"
      ],
      "text/plain": [
       "   total_bill   tip     sex smoker  day    time  size\n",
       "0       16.99  1.01  Female     No  Sun  Dinner     2\n",
       "1       10.34  1.66    Male     No  Sun  Dinner     3\n",
       "2       21.01  3.50    Male     No  Sun  Dinner     3\n",
       "3       23.68  3.31    Male     No  Sun  Dinner     2\n",
       "4       24.59  3.61  Female     No  Sun  Dinner     4"
      ]
     },
     "execution_count": 86,
     "metadata": {},
     "output_type": "execute_result"
    }
   ],
   "source": [
    "df.head()\n",
    "## total_bill is the dependent feature and rest of them are the independent feature, we will use all the features to predict the total bill"
   ]
  },
  {
   "cell_type": "code",
   "execution_count": 87,
   "metadata": {},
   "outputs": [
    {
     "data": {
      "text/plain": [
       "total_bill    0\n",
       "tip           0\n",
       "sex           0\n",
       "smoker        0\n",
       "day           0\n",
       "time          0\n",
       "size          0\n",
       "dtype: int64"
      ]
     },
     "execution_count": 87,
     "metadata": {},
     "output_type": "execute_result"
    }
   ],
   "source": [
    "df.isnull().sum()"
   ]
  },
  {
   "cell_type": "code",
   "execution_count": 88,
   "metadata": {},
   "outputs": [
    {
     "name": "stdout",
     "output_type": "stream",
     "text": [
      "<class 'pandas.core.frame.DataFrame'>\n",
      "RangeIndex: 244 entries, 0 to 243\n",
      "Data columns (total 7 columns):\n",
      " #   Column      Non-Null Count  Dtype   \n",
      "---  ------      --------------  -----   \n",
      " 0   total_bill  244 non-null    float64 \n",
      " 1   tip         244 non-null    float64 \n",
      " 2   sex         244 non-null    category\n",
      " 3   smoker      244 non-null    category\n",
      " 4   day         244 non-null    category\n",
      " 5   time        244 non-null    category\n",
      " 6   size        244 non-null    int64   \n",
      "dtypes: category(4), float64(2), int64(1)\n",
      "memory usage: 7.4 KB\n"
     ]
    }
   ],
   "source": [
    "df.info()"
   ]
  },
  {
   "cell_type": "code",
   "execution_count": 89,
   "metadata": {},
   "outputs": [
    {
     "data": {
      "text/plain": [
       "sex\n",
       "Male      157\n",
       "Female     87\n",
       "Name: count, dtype: int64"
      ]
     },
     "execution_count": 89,
     "metadata": {},
     "output_type": "execute_result"
    }
   ],
   "source": [
    "df['sex'].value_counts()"
   ]
  },
  {
   "cell_type": "code",
   "execution_count": 90,
   "metadata": {},
   "outputs": [
    {
     "data": {
      "text/plain": [
       "smoker\n",
       "No     151\n",
       "Yes     93\n",
       "Name: count, dtype: int64"
      ]
     },
     "execution_count": 90,
     "metadata": {},
     "output_type": "execute_result"
    }
   ],
   "source": [
    "df['smoker'].value_counts()"
   ]
  },
  {
   "cell_type": "code",
   "execution_count": 91,
   "metadata": {},
   "outputs": [
    {
     "data": {
      "text/plain": [
       "day\n",
       "Sat     87\n",
       "Sun     76\n",
       "Thur    62\n",
       "Fri     19\n",
       "Name: count, dtype: int64"
      ]
     },
     "execution_count": 91,
     "metadata": {},
     "output_type": "execute_result"
    }
   ],
   "source": [
    "df['day'].value_counts()"
   ]
  },
  {
   "cell_type": "code",
   "execution_count": 92,
   "metadata": {},
   "outputs": [
    {
     "data": {
      "text/plain": [
       "time\n",
       "Dinner    176\n",
       "Lunch      68\n",
       "Name: count, dtype: int64"
      ]
     },
     "execution_count": 92,
     "metadata": {},
     "output_type": "execute_result"
    }
   ],
   "source": [
    "df['time'].value_counts()"
   ]
  },
  {
   "cell_type": "code",
   "execution_count": 93,
   "metadata": {},
   "outputs": [],
   "source": [
    "## feature encoding - we will be using label encoding and one hot encoding \n",
    "## We can use label encoding for time, smoker, sex as it has only 2 categories \n",
    "# we will be using one hot encoding for days as it have more than 2 categories "
   ]
  },
  {
   "cell_type": "code",
   "execution_count": 94,
   "metadata": {},
   "outputs": [],
   "source": [
    "## independent and dependent features\n",
    "X = df.drop(columns='total_bill',axis=1)\n",
    "y=df['total_bill']"
   ]
  },
  {
   "cell_type": "code",
   "execution_count": 95,
   "metadata": {},
   "outputs": [
    {
     "data": {
      "text/plain": [
       "0    16.99\n",
       "1    10.34\n",
       "2    21.01\n",
       "3    23.68\n",
       "4    24.59\n",
       "Name: total_bill, dtype: float64"
      ]
     },
     "execution_count": 95,
     "metadata": {},
     "output_type": "execute_result"
    }
   ],
   "source": [
    "y.head()"
   ]
  },
  {
   "cell_type": "code",
   "execution_count": 119,
   "metadata": {},
   "outputs": [],
   "source": [
    "from sklearn.model_selection import train_test_split\n",
    "\n",
    "X_train, X_test, y_train,y_test = train_test_split(X,y,test_size=0.2, random_state=42) "
   ]
  },
  {
   "cell_type": "code",
   "execution_count": 120,
   "metadata": {},
   "outputs": [
    {
     "data": {
      "text/plain": [
       "(195, 6)"
      ]
     },
     "execution_count": 120,
     "metadata": {},
     "output_type": "execute_result"
    }
   ],
   "source": [
    "X_train.shape"
   ]
  },
  {
   "cell_type": "code",
   "execution_count": 121,
   "metadata": {},
   "outputs": [
    {
     "data": {
      "text/plain": [
       "(49, 6)"
      ]
     },
     "execution_count": 121,
     "metadata": {},
     "output_type": "execute_result"
    }
   ],
   "source": [
    "X_test.shape"
   ]
  },
  {
   "cell_type": "code",
   "execution_count": 122,
   "metadata": {},
   "outputs": [
    {
     "data": {
      "text/plain": [
       "(195,)"
      ]
     },
     "execution_count": 122,
     "metadata": {},
     "output_type": "execute_result"
    }
   ],
   "source": [
    "y_train.shape"
   ]
  },
  {
   "cell_type": "code",
   "execution_count": 123,
   "metadata": {},
   "outputs": [],
   "source": [
    "from sklearn.preprocessing import LabelEncoder, OneHotEncoder\n",
    "\n",
    "label_encoder1 = LabelEncoder()\n",
    "label_encoder2 = LabelEncoder()\n",
    "label_encoder3 = LabelEncoder()\n",
    "onehot_encoder = OneHotEncoder()"
   ]
  },
  {
   "cell_type": "code",
   "execution_count": 124,
   "metadata": {},
   "outputs": [],
   "source": [
    "X_train['sex']=label_encoder1.fit_transform(X_train['sex'])\n",
    "X_train['time']=label_encoder2.fit_transform(X_train['time'])\n",
    "X_train['smoker']=label_encoder3.fit_transform(X_train['smoker'])\n"
   ]
  },
  {
   "cell_type": "code",
   "execution_count": 125,
   "metadata": {},
   "outputs": [
    {
     "data": {
      "text/html": [
       "<div>\n",
       "<style scoped>\n",
       "    .dataframe tbody tr th:only-of-type {\n",
       "        vertical-align: middle;\n",
       "    }\n",
       "\n",
       "    .dataframe tbody tr th {\n",
       "        vertical-align: top;\n",
       "    }\n",
       "\n",
       "    .dataframe thead th {\n",
       "        text-align: right;\n",
       "    }\n",
       "</style>\n",
       "<table border=\"1\" class=\"dataframe\">\n",
       "  <thead>\n",
       "    <tr style=\"text-align: right;\">\n",
       "      <th></th>\n",
       "      <th>tip</th>\n",
       "      <th>sex</th>\n",
       "      <th>smoker</th>\n",
       "      <th>day</th>\n",
       "      <th>time</th>\n",
       "      <th>size</th>\n",
       "    </tr>\n",
       "  </thead>\n",
       "  <tbody>\n",
       "    <tr>\n",
       "      <th>228</th>\n",
       "      <td>2.72</td>\n",
       "      <td>1</td>\n",
       "      <td>0</td>\n",
       "      <td>Sat</td>\n",
       "      <td>0</td>\n",
       "      <td>2</td>\n",
       "    </tr>\n",
       "    <tr>\n",
       "      <th>208</th>\n",
       "      <td>2.03</td>\n",
       "      <td>1</td>\n",
       "      <td>1</td>\n",
       "      <td>Sat</td>\n",
       "      <td>0</td>\n",
       "      <td>2</td>\n",
       "    </tr>\n",
       "    <tr>\n",
       "      <th>96</th>\n",
       "      <td>4.00</td>\n",
       "      <td>1</td>\n",
       "      <td>1</td>\n",
       "      <td>Fri</td>\n",
       "      <td>0</td>\n",
       "      <td>2</td>\n",
       "    </tr>\n",
       "    <tr>\n",
       "      <th>167</th>\n",
       "      <td>4.50</td>\n",
       "      <td>1</td>\n",
       "      <td>0</td>\n",
       "      <td>Sun</td>\n",
       "      <td>0</td>\n",
       "      <td>4</td>\n",
       "    </tr>\n",
       "    <tr>\n",
       "      <th>84</th>\n",
       "      <td>2.03</td>\n",
       "      <td>1</td>\n",
       "      <td>0</td>\n",
       "      <td>Thur</td>\n",
       "      <td>1</td>\n",
       "      <td>2</td>\n",
       "    </tr>\n",
       "  </tbody>\n",
       "</table>\n",
       "</div>"
      ],
      "text/plain": [
       "      tip  sex  smoker   day  time  size\n",
       "228  2.72    1       0   Sat     0     2\n",
       "208  2.03    1       1   Sat     0     2\n",
       "96   4.00    1       1   Fri     0     2\n",
       "167  4.50    1       0   Sun     0     4\n",
       "84   2.03    1       0  Thur     1     2"
      ]
     },
     "execution_count": 125,
     "metadata": {},
     "output_type": "execute_result"
    }
   ],
   "source": [
    "X_train.head()"
   ]
  },
  {
   "cell_type": "code",
   "execution_count": 126,
   "metadata": {},
   "outputs": [],
   "source": [
    "X_test['sex']=label_encoder1.transform(X_test['sex'])\n",
    "X_test['time']=label_encoder2.transform(X_test['time'])\n",
    "X_test['smoker']=label_encoder3.transform(X_test['smoker'])"
   ]
  },
  {
   "cell_type": "code",
   "execution_count": 127,
   "metadata": {},
   "outputs": [
    {
     "data": {
      "text/html": [
       "<div>\n",
       "<style scoped>\n",
       "    .dataframe tbody tr th:only-of-type {\n",
       "        vertical-align: middle;\n",
       "    }\n",
       "\n",
       "    .dataframe tbody tr th {\n",
       "        vertical-align: top;\n",
       "    }\n",
       "\n",
       "    .dataframe thead th {\n",
       "        text-align: right;\n",
       "    }\n",
       "</style>\n",
       "<table border=\"1\" class=\"dataframe\">\n",
       "  <thead>\n",
       "    <tr style=\"text-align: right;\">\n",
       "      <th></th>\n",
       "      <th>tip</th>\n",
       "      <th>sex</th>\n",
       "      <th>smoker</th>\n",
       "      <th>day</th>\n",
       "      <th>time</th>\n",
       "      <th>size</th>\n",
       "    </tr>\n",
       "  </thead>\n",
       "  <tbody>\n",
       "    <tr>\n",
       "      <th>24</th>\n",
       "      <td>3.18</td>\n",
       "      <td>1</td>\n",
       "      <td>0</td>\n",
       "      <td>Sat</td>\n",
       "      <td>0</td>\n",
       "      <td>2</td>\n",
       "    </tr>\n",
       "    <tr>\n",
       "      <th>6</th>\n",
       "      <td>2.00</td>\n",
       "      <td>1</td>\n",
       "      <td>0</td>\n",
       "      <td>Sun</td>\n",
       "      <td>0</td>\n",
       "      <td>2</td>\n",
       "    </tr>\n",
       "    <tr>\n",
       "      <th>153</th>\n",
       "      <td>2.00</td>\n",
       "      <td>1</td>\n",
       "      <td>0</td>\n",
       "      <td>Sun</td>\n",
       "      <td>0</td>\n",
       "      <td>4</td>\n",
       "    </tr>\n",
       "    <tr>\n",
       "      <th>211</th>\n",
       "      <td>5.16</td>\n",
       "      <td>1</td>\n",
       "      <td>1</td>\n",
       "      <td>Sat</td>\n",
       "      <td>0</td>\n",
       "      <td>4</td>\n",
       "    </tr>\n",
       "    <tr>\n",
       "      <th>198</th>\n",
       "      <td>2.00</td>\n",
       "      <td>0</td>\n",
       "      <td>1</td>\n",
       "      <td>Thur</td>\n",
       "      <td>1</td>\n",
       "      <td>2</td>\n",
       "    </tr>\n",
       "  </tbody>\n",
       "</table>\n",
       "</div>"
      ],
      "text/plain": [
       "      tip  sex  smoker   day  time  size\n",
       "24   3.18    1       0   Sat     0     2\n",
       "6    2.00    1       0   Sun     0     2\n",
       "153  2.00    1       0   Sun     0     4\n",
       "211  5.16    1       1   Sat     0     4\n",
       "198  2.00    0       1  Thur     1     2"
      ]
     },
     "execution_count": 127,
     "metadata": {},
     "output_type": "execute_result"
    }
   ],
   "source": [
    "X_test.head()"
   ]
  },
  {
   "cell_type": "code",
   "execution_count": 128,
   "metadata": {},
   "outputs": [],
   "source": [
    "## for applying one hot encoding we need to apply it with column transformer \n",
    "\n",
    "from sklearn.compose import ColumnTransformer\n",
    "\n",
    "ct = ColumnTransformer(transformers=[('onehot',OneHotEncoder(drop='first'),[3])],\n",
    "                                     remainder='passthrough')\n",
    "X_train=ct.fit_transform(X_train)"
   ]
  },
  {
   "cell_type": "code",
   "execution_count": 129,
   "metadata": {},
   "outputs": [
    {
     "data": {
      "text/plain": [
       "array([[ 1.  ,  0.  ,  0.  ,  2.72,  1.  ,  0.  ,  0.  ,  2.  ],\n",
       "       [ 1.  ,  0.  ,  0.  ,  2.03,  1.  ,  1.  ,  0.  ,  2.  ],\n",
       "       [ 0.  ,  0.  ,  0.  ,  4.  ,  1.  ,  1.  ,  0.  ,  2.  ],\n",
       "       [ 0.  ,  1.  ,  0.  ,  4.5 ,  1.  ,  0.  ,  0.  ,  4.  ],\n",
       "       [ 0.  ,  0.  ,  1.  ,  2.03,  1.  ,  0.  ,  1.  ,  2.  ],\n",
       "       [ 0.  ,  1.  ,  0.  ,  3.51,  1.  ,  0.  ,  0.  ,  2.  ],\n",
       "       [ 0.  ,  0.  ,  1.  ,  2.  ,  1.  ,  0.  ,  1.  ,  2.  ],\n",
       "       [ 0.  ,  1.  ,  0.  ,  5.15,  1.  ,  1.  ,  0.  ,  2.  ],\n",
       "       [ 1.  ,  0.  ,  0.  ,  1.75,  1.  ,  0.  ,  0.  ,  2.  ],\n",
       "       [ 0.  ,  1.  ,  0.  ,  2.74,  1.  ,  0.  ,  0.  ,  3.  ],\n",
       "       [ 1.  ,  0.  ,  0.  ,  3.  ,  1.  ,  1.  ,  0.  ,  3.  ],\n",
       "       [ 0.  ,  1.  ,  0.  ,  5.14,  0.  ,  0.  ,  0.  ,  5.  ],\n",
       "       [ 0.  ,  1.  ,  0.  ,  3.5 ,  0.  ,  0.  ,  0.  ,  2.  ],\n",
       "       [ 0.  ,  1.  ,  0.  ,  5.65,  1.  ,  1.  ,  0.  ,  2.  ],\n",
       "       [ 0.  ,  0.  ,  0.  ,  2.5 ,  0.  ,  1.  ,  1.  ,  2.  ],\n",
       "       [ 1.  ,  0.  ,  0.  ,  2.01,  1.  ,  0.  ,  0.  ,  2.  ],\n",
       "       [ 1.  ,  0.  ,  0.  ,  4.08,  0.  ,  0.  ,  0.  ,  2.  ],\n",
       "       [ 1.  ,  0.  ,  0.  ,  2.09,  1.  ,  1.  ,  0.  ,  2.  ],\n",
       "       [ 1.  ,  0.  ,  0.  ,  1.  ,  0.  ,  0.  ,  0.  ,  1.  ],\n",
       "       [ 1.  ,  0.  ,  0.  ,  3.41,  1.  ,  1.  ,  0.  ,  3.  ],\n",
       "       [ 0.  ,  1.  ,  0.  ,  3.48,  1.  ,  0.  ,  0.  ,  3.  ],\n",
       "       [ 0.  ,  1.  ,  0.  ,  2.  ,  1.  ,  0.  ,  0.  ,  4.  ],\n",
       "       [ 1.  ,  0.  ,  0.  ,  3.  ,  1.  ,  1.  ,  0.  ,  5.  ],\n",
       "       [ 0.  ,  0.  ,  1.  ,  2.71,  1.  ,  0.  ,  1.  ,  2.  ],\n",
       "       [ 1.  ,  0.  ,  0.  ,  3.  ,  0.  ,  0.  ,  0.  ,  2.  ],\n",
       "       [ 1.  ,  0.  ,  0.  ,  3.  ,  1.  ,  1.  ,  0.  ,  2.  ],\n",
       "       [ 1.  ,  0.  ,  0.  ,  3.  ,  1.  ,  0.  ,  0.  ,  4.  ],\n",
       "       [ 0.  ,  1.  ,  0.  ,  3.68,  1.  ,  1.  ,  0.  ,  4.  ],\n",
       "       [ 0.  ,  1.  ,  0.  ,  4.71,  1.  ,  0.  ,  0.  ,  4.  ],\n",
       "       [ 1.  ,  0.  ,  0.  ,  3.  ,  1.  ,  1.  ,  0.  ,  4.  ],\n",
       "       [ 0.  ,  0.  ,  1.  ,  4.2 ,  0.  ,  0.  ,  1.  ,  6.  ],\n",
       "       [ 0.  ,  0.  ,  1.  ,  1.73,  1.  ,  0.  ,  1.  ,  2.  ],\n",
       "       [ 0.  ,  1.  ,  0.  ,  4.  ,  0.  ,  0.  ,  0.  ,  3.  ],\n",
       "       [ 1.  ,  0.  ,  0.  ,  3.15,  1.  ,  0.  ,  0.  ,  3.  ],\n",
       "       [ 0.  ,  0.  ,  1.  ,  1.5 ,  0.  ,  0.  ,  1.  ,  2.  ],\n",
       "       [ 1.  ,  0.  ,  0.  ,  3.  ,  1.  ,  1.  ,  0.  ,  4.  ],\n",
       "       [ 0.  ,  1.  ,  0.  ,  2.  ,  0.  ,  0.  ,  0.  ,  3.  ],\n",
       "       [ 1.  ,  0.  ,  0.  ,  2.5 ,  1.  ,  0.  ,  0.  ,  4.  ],\n",
       "       [ 0.  ,  1.  ,  0.  ,  1.57,  1.  ,  0.  ,  0.  ,  2.  ],\n",
       "       [ 1.  ,  0.  ,  0.  ,  3.6 ,  1.  ,  0.  ,  0.  ,  3.  ],\n",
       "       [ 1.  ,  0.  ,  0.  ,  4.3 ,  1.  ,  0.  ,  0.  ,  2.  ],\n",
       "       [ 0.  ,  1.  ,  0.  ,  3.06,  1.  ,  0.  ,  0.  ,  2.  ],\n",
       "       [ 1.  ,  0.  ,  0.  ,  5.92,  1.  ,  0.  ,  0.  ,  3.  ],\n",
       "       [ 0.  ,  0.  ,  1.  ,  1.48,  1.  ,  0.  ,  1.  ,  2.  ],\n",
       "       [ 0.  ,  0.  ,  0.  ,  4.3 ,  0.  ,  1.  ,  0.  ,  2.  ],\n",
       "       [ 0.  ,  1.  ,  0.  ,  3.  ,  0.  ,  1.  ,  0.  ,  2.  ],\n",
       "       [ 0.  ,  1.  ,  0.  ,  2.6 ,  0.  ,  0.  ,  0.  ,  2.  ],\n",
       "       [ 0.  ,  0.  ,  0.  ,  4.73,  1.  ,  1.  ,  0.  ,  4.  ],\n",
       "       [ 0.  ,  0.  ,  1.  ,  3.5 ,  0.  ,  0.  ,  1.  ,  2.  ],\n",
       "       [ 0.  ,  0.  ,  1.  ,  4.  ,  1.  ,  1.  ,  1.  ,  2.  ],\n",
       "       [ 1.  ,  0.  ,  0.  ,  3.08,  1.  ,  1.  ,  0.  ,  2.  ],\n",
       "       [ 0.  ,  1.  ,  0.  ,  2.54,  1.  ,  0.  ,  0.  ,  2.  ],\n",
       "       [ 1.  ,  0.  ,  0.  ,  3.76,  1.  ,  0.  ,  0.  ,  2.  ],\n",
       "       [ 0.  ,  0.  ,  0.  ,  3.  ,  0.  ,  0.  ,  1.  ,  3.  ],\n",
       "       [ 0.  ,  0.  ,  1.  ,  3.  ,  1.  ,  0.  ,  1.  ,  2.  ],\n",
       "       [ 0.  ,  0.  ,  1.  ,  2.3 ,  0.  ,  0.  ,  1.  ,  2.  ],\n",
       "       [ 1.  ,  0.  ,  0.  ,  2.  ,  1.  ,  0.  ,  0.  ,  2.  ],\n",
       "       [ 1.  ,  0.  ,  0.  ,  1.25,  1.  ,  0.  ,  0.  ,  2.  ],\n",
       "       [ 1.  ,  0.  ,  0.  ,  2.5 ,  0.  ,  1.  ,  0.  ,  2.  ],\n",
       "       [ 0.  ,  1.  ,  0.  ,  6.5 ,  1.  ,  1.  ,  0.  ,  4.  ],\n",
       "       [ 0.  ,  0.  ,  1.  ,  2.02,  1.  ,  1.  ,  1.  ,  2.  ],\n",
       "       [ 0.  ,  1.  ,  0.  ,  1.01,  0.  ,  0.  ,  0.  ,  2.  ],\n",
       "       [ 0.  ,  1.  ,  0.  ,  3.5 ,  1.  ,  0.  ,  0.  ,  3.  ],\n",
       "       [ 0.  ,  0.  ,  1.  ,  4.  ,  1.  ,  0.  ,  1.  ,  4.  ],\n",
       "       [ 0.  ,  1.  ,  0.  ,  5.  ,  1.  ,  0.  ,  0.  ,  2.  ],\n",
       "       [ 0.  ,  0.  ,  0.  ,  2.5 ,  0.  ,  1.  ,  0.  ,  2.  ],\n",
       "       [ 0.  ,  0.  ,  1.  ,  2.  ,  0.  ,  0.  ,  1.  ,  2.  ],\n",
       "       [ 0.  ,  0.  ,  1.  ,  1.63,  0.  ,  0.  ,  1.  ,  2.  ],\n",
       "       [ 0.  ,  1.  ,  0.  ,  3.11,  1.  ,  1.  ,  0.  ,  2.  ],\n",
       "       [ 0.  ,  0.  ,  0.  ,  3.  ,  1.  ,  1.  ,  0.  ,  2.  ],\n",
       "       [ 0.  ,  0.  ,  1.  ,  5.17,  0.  ,  0.  ,  1.  ,  4.  ],\n",
       "       [ 1.  ,  0.  ,  0.  , 10.  ,  1.  ,  1.  ,  0.  ,  3.  ],\n",
       "       [ 0.  ,  1.  ,  0.  ,  2.5 ,  1.  ,  0.  ,  0.  ,  2.  ],\n",
       "       [ 0.  ,  0.  ,  0.  ,  3.  ,  1.  ,  1.  ,  0.  ,  2.  ],\n",
       "       [ 1.  ,  0.  ,  0.  ,  2.  ,  1.  ,  0.  ,  0.  ,  3.  ],\n",
       "       [ 0.  ,  0.  ,  1.  ,  5.  ,  0.  ,  0.  ,  1.  ,  6.  ],\n",
       "       [ 1.  ,  0.  ,  0.  ,  2.  ,  1.  ,  1.  ,  0.  ,  2.  ],\n",
       "       [ 1.  ,  0.  ,  0.  ,  2.23,  0.  ,  0.  ,  0.  ,  2.  ],\n",
       "       [ 0.  ,  0.  ,  1.  ,  1.8 ,  0.  ,  0.  ,  1.  ,  2.  ],\n",
       "       [ 0.  ,  1.  ,  0.  ,  2.61,  0.  ,  0.  ,  0.  ,  2.  ],\n",
       "       [ 0.  ,  0.  ,  1.  ,  2.  ,  0.  ,  0.  ,  1.  ,  2.  ],\n",
       "       [ 0.  ,  1.  ,  0.  ,  5.  ,  0.  ,  0.  ,  0.  ,  4.  ],\n",
       "       [ 1.  ,  0.  ,  0.  ,  4.67,  0.  ,  0.  ,  0.  ,  3.  ],\n",
       "       [ 1.  ,  0.  ,  0.  ,  2.  ,  1.  ,  0.  ,  0.  ,  2.  ],\n",
       "       [ 0.  ,  1.  ,  0.  ,  2.5 ,  1.  ,  0.  ,  0.  ,  2.  ],\n",
       "       [ 0.  ,  1.  ,  0.  ,  3.61,  0.  ,  0.  ,  0.  ,  4.  ],\n",
       "       [ 0.  ,  0.  ,  1.  ,  2.5 ,  1.  ,  0.  ,  1.  ,  2.  ],\n",
       "       [ 1.  ,  0.  ,  0.  ,  3.  ,  0.  ,  0.  ,  0.  ,  2.  ],\n",
       "       [ 0.  ,  0.  ,  1.  ,  6.7 ,  1.  ,  0.  ,  1.  ,  6.  ],\n",
       "       [ 0.  ,  1.  ,  0.  ,  3.18,  1.  ,  1.  ,  0.  ,  2.  ],\n",
       "       [ 0.  ,  0.  ,  1.  ,  2.  ,  1.  ,  1.  ,  1.  ,  2.  ],\n",
       "       [ 1.  ,  0.  ,  0.  ,  1.98,  1.  ,  1.  ,  0.  ,  2.  ],\n",
       "       [ 0.  ,  0.  ,  1.  ,  1.25,  0.  ,  0.  ,  1.  ,  2.  ],\n",
       "       [ 0.  ,  0.  ,  1.  ,  2.  ,  0.  ,  0.  ,  1.  ,  2.  ],\n",
       "       [ 0.  ,  0.  ,  0.  ,  2.2 ,  1.  ,  1.  ,  1.  ,  2.  ],\n",
       "       [ 0.  ,  1.  ,  0.  ,  3.  ,  1.  ,  1.  ,  0.  ,  2.  ],\n",
       "       [ 1.  ,  0.  ,  0.  ,  1.97,  1.  ,  0.  ,  0.  ,  2.  ],\n",
       "       [ 0.  ,  0.  ,  1.  ,  3.23,  0.  ,  1.  ,  1.  ,  3.  ],\n",
       "       [ 1.  ,  0.  ,  0.  ,  2.64,  1.  ,  0.  ,  0.  ,  3.  ],\n",
       "       [ 0.  ,  1.  ,  0.  ,  5.6 ,  1.  ,  0.  ,  0.  ,  4.  ],\n",
       "       [ 1.  ,  0.  ,  0.  ,  3.09,  0.  ,  1.  ,  0.  ,  4.  ],\n",
       "       [ 1.  ,  0.  ,  0.  ,  2.24,  1.  ,  0.  ,  0.  ,  3.  ],\n",
       "       [ 0.  ,  0.  ,  1.  ,  2.  ,  1.  ,  0.  ,  1.  ,  2.  ],\n",
       "       [ 1.  ,  0.  ,  0.  ,  7.58,  1.  ,  0.  ,  0.  ,  4.  ],\n",
       "       [ 0.  ,  1.  ,  0.  ,  3.5 ,  1.  ,  1.  ,  0.  ,  3.  ],\n",
       "       [ 0.  ,  1.  ,  0.  ,  4.  ,  0.  ,  1.  ,  0.  ,  2.  ],\n",
       "       [ 0.  ,  0.  ,  1.  ,  3.4 ,  1.  ,  0.  ,  1.  ,  2.  ],\n",
       "       [ 1.  ,  0.  ,  0.  ,  5.  ,  1.  ,  0.  ,  0.  ,  3.  ],\n",
       "       [ 0.  ,  0.  ,  1.  ,  4.  ,  1.  ,  1.  ,  1.  ,  4.  ],\n",
       "       [ 0.  ,  1.  ,  0.  ,  6.  ,  1.  ,  0.  ,  0.  ,  4.  ],\n",
       "       [ 0.  ,  0.  ,  0.  ,  3.25,  0.  ,  0.  ,  0.  ,  2.  ],\n",
       "       [ 0.  ,  1.  ,  0.  ,  5.  ,  1.  ,  0.  ,  0.  ,  5.  ],\n",
       "       [ 0.  ,  1.  ,  0.  ,  1.32,  1.  ,  0.  ,  0.  ,  2.  ],\n",
       "       [ 0.  ,  0.  ,  1.  ,  1.5 ,  0.  ,  0.  ,  1.  ,  2.  ],\n",
       "       [ 0.  ,  1.  ,  0.  ,  1.5 ,  1.  ,  1.  ,  0.  ,  2.  ],\n",
       "       [ 0.  ,  1.  ,  0.  ,  3.31,  1.  ,  0.  ,  0.  ,  2.  ],\n",
       "       [ 1.  ,  0.  ,  0.  ,  1.64,  1.  ,  1.  ,  0.  ,  2.  ],\n",
       "       [ 0.  ,  1.  ,  0.  ,  1.56,  1.  ,  0.  ,  0.  ,  2.  ],\n",
       "       [ 0.  ,  0.  ,  1.  ,  2.  ,  0.  ,  0.  ,  1.  ,  2.  ],\n",
       "       [ 0.  ,  0.  ,  0.  ,  3.48,  0.  ,  1.  ,  1.  ,  2.  ],\n",
       "       [ 1.  ,  0.  ,  0.  ,  1.17,  1.  ,  1.  ,  0.  ,  2.  ],\n",
       "       [ 0.  ,  0.  ,  0.  ,  2.  ,  0.  ,  1.  ,  1.  ,  2.  ],\n",
       "       [ 0.  ,  1.  ,  0.  ,  3.  ,  1.  ,  0.  ,  0.  ,  2.  ],\n",
       "       [ 0.  ,  1.  ,  0.  ,  2.  ,  1.  ,  0.  ,  0.  ,  2.  ],\n",
       "       [ 0.  ,  0.  ,  1.  ,  3.  ,  1.  ,  1.  ,  1.  ,  2.  ],\n",
       "       [ 1.  ,  0.  ,  0.  ,  3.27,  1.  ,  0.  ,  0.  ,  2.  ],\n",
       "       [ 0.  ,  0.  ,  1.  ,  2.01,  0.  ,  1.  ,  1.  ,  2.  ],\n",
       "       [ 0.  ,  1.  ,  0.  ,  3.12,  1.  ,  0.  ,  0.  ,  4.  ],\n",
       "       [ 1.  ,  0.  ,  0.  ,  3.16,  1.  ,  1.  ,  0.  ,  2.  ],\n",
       "       [ 1.  ,  0.  ,  0.  ,  3.  ,  1.  ,  0.  ,  0.  ,  2.  ],\n",
       "       [ 0.  ,  0.  ,  0.  ,  3.5 ,  1.  ,  0.  ,  0.  ,  2.  ],\n",
       "       [ 0.  ,  0.  ,  1.  ,  5.  ,  1.  ,  1.  ,  1.  ,  2.  ],\n",
       "       [ 1.  ,  0.  ,  0.  ,  1.5 ,  1.  ,  1.  ,  0.  ,  2.  ],\n",
       "       [ 0.  ,  0.  ,  0.  ,  1.92,  1.  ,  1.  ,  1.  ,  1.  ],\n",
       "       [ 0.  ,  0.  ,  1.  ,  3.  ,  1.  ,  0.  ,  1.  ,  2.  ],\n",
       "       [ 0.  ,  1.  ,  0.  ,  1.96,  1.  ,  0.  ,  0.  ,  2.  ],\n",
       "       [ 0.  ,  1.  ,  0.  ,  3.  ,  1.  ,  0.  ,  0.  ,  4.  ],\n",
       "       [ 1.  ,  0.  ,  0.  ,  6.73,  1.  ,  0.  ,  0.  ,  4.  ],\n",
       "       [ 1.  ,  0.  ,  0.  ,  2.23,  0.  ,  1.  ,  0.  ,  2.  ],\n",
       "       [ 0.  ,  0.  ,  1.  ,  2.83,  0.  ,  0.  ,  1.  ,  2.  ],\n",
       "       [ 0.  ,  1.  ,  0.  ,  3.71,  1.  ,  0.  ,  0.  ,  3.  ],\n",
       "       [ 0.  ,  1.  ,  0.  ,  2.24,  1.  ,  0.  ,  0.  ,  2.  ],\n",
       "       [ 1.  ,  0.  ,  0.  ,  3.14,  0.  ,  1.  ,  0.  ,  2.  ],\n",
       "       [ 1.  ,  0.  ,  0.  ,  3.39,  1.  ,  0.  ,  0.  ,  2.  ],\n",
       "       [ 0.  ,  0.  ,  1.  ,  3.25,  0.  ,  0.  ,  1.  ,  2.  ],\n",
       "       [ 0.  ,  0.  ,  1.  ,  2.  ,  1.  ,  1.  ,  1.  ,  2.  ],\n",
       "       [ 0.  ,  0.  ,  0.  ,  1.58,  1.  ,  1.  ,  1.  ,  2.  ],\n",
       "       [ 1.  ,  0.  ,  0.  ,  3.76,  1.  ,  1.  ,  0.  ,  4.  ],\n",
       "       [ 0.  ,  1.  ,  0.  ,  4.34,  1.  ,  0.  ,  0.  ,  4.  ],\n",
       "       [ 1.  ,  0.  ,  0.  ,  4.29,  1.  ,  1.  ,  0.  ,  2.  ],\n",
       "       [ 0.  ,  1.  ,  0.  ,  2.5 ,  1.  ,  0.  ,  0.  ,  2.  ],\n",
       "       [ 1.  ,  0.  ,  0.  ,  2.  ,  1.  ,  1.  ,  0.  ,  4.  ],\n",
       "       [ 0.  ,  1.  ,  0.  ,  4.  ,  1.  ,  1.  ,  0.  ,  2.  ],\n",
       "       [ 1.  ,  0.  ,  0.  ,  9.  ,  1.  ,  0.  ,  0.  ,  4.  ],\n",
       "       [ 0.  ,  1.  ,  0.  ,  4.  ,  1.  ,  1.  ,  0.  ,  3.  ],\n",
       "       [ 1.  ,  0.  ,  0.  ,  2.  ,  0.  ,  1.  ,  0.  ,  2.  ],\n",
       "       [ 1.  ,  0.  ,  0.  ,  1.1 ,  0.  ,  1.  ,  0.  ,  2.  ],\n",
       "       [ 1.  ,  0.  ,  0.  ,  2.  ,  0.  ,  1.  ,  0.  ,  2.  ],\n",
       "       [ 1.  ,  0.  ,  0.  ,  1.76,  1.  ,  1.  ,  0.  ,  2.  ],\n",
       "       [ 0.  ,  1.  ,  0.  ,  2.05,  1.  ,  0.  ,  0.  ,  3.  ],\n",
       "       [ 0.  ,  0.  ,  1.  ,  5.85,  1.  ,  0.  ,  1.  ,  2.  ],\n",
       "       [ 1.  ,  0.  ,  0.  ,  2.75,  0.  ,  0.  ,  0.  ,  2.  ],\n",
       "       [ 1.  ,  0.  ,  0.  ,  1.5 ,  0.  ,  0.  ,  0.  ,  2.  ],\n",
       "       [ 0.  ,  0.  ,  1.  ,  2.5 ,  0.  ,  1.  ,  1.  ,  2.  ],\n",
       "       [ 0.  ,  1.  ,  0.  ,  3.5 ,  1.  ,  0.  ,  0.  ,  4.  ],\n",
       "       [ 1.  ,  0.  ,  0.  ,  1.  ,  1.  ,  1.  ,  0.  ,  2.  ],\n",
       "       [ 0.  ,  1.  ,  0.  ,  2.  ,  1.  ,  1.  ,  0.  ,  5.  ],\n",
       "       [ 0.  ,  0.  ,  1.  ,  4.19,  0.  ,  1.  ,  1.  ,  2.  ],\n",
       "       [ 0.  ,  0.  ,  1.  ,  2.18,  1.  ,  0.  ,  1.  ,  3.  ],\n",
       "       [ 1.  ,  0.  ,  0.  ,  3.07,  0.  ,  0.  ,  0.  ,  3.  ],\n",
       "       [ 0.  ,  1.  ,  0.  ,  3.75,  0.  ,  0.  ,  0.  ,  4.  ],\n",
       "       [ 1.  ,  0.  ,  0.  ,  2.88,  0.  ,  1.  ,  0.  ,  2.  ],\n",
       "       [ 0.  ,  1.  ,  0.  ,  1.66,  1.  ,  0.  ,  0.  ,  3.  ],\n",
       "       [ 0.  ,  1.  ,  0.  ,  5.2 ,  0.  ,  0.  ,  0.  ,  4.  ],\n",
       "       [ 0.  ,  0.  ,  1.  ,  2.  ,  1.  ,  0.  ,  1.  ,  2.  ],\n",
       "       [ 0.  ,  0.  ,  1.  ,  1.5 ,  1.  ,  0.  ,  1.  ,  2.  ],\n",
       "       [ 0.  ,  1.  ,  0.  ,  2.  ,  1.  ,  0.  ,  0.  ,  2.  ],\n",
       "       [ 1.  ,  0.  ,  0.  ,  3.48,  0.  ,  1.  ,  0.  ,  2.  ],\n",
       "       [ 0.  ,  0.  ,  0.  ,  1.5 ,  1.  ,  0.  ,  0.  ,  2.  ],\n",
       "       [ 0.  ,  1.  ,  0.  ,  5.07,  1.  ,  0.  ,  0.  ,  4.  ],\n",
       "       [ 0.  ,  0.  ,  1.  ,  4.  ,  1.  ,  0.  ,  1.  ,  2.  ],\n",
       "       [ 0.  ,  0.  ,  1.  ,  2.  ,  0.  ,  1.  ,  1.  ,  2.  ],\n",
       "       [ 1.  ,  0.  ,  0.  ,  2.2 ,  0.  ,  0.  ,  0.  ,  2.  ],\n",
       "       [ 1.  ,  0.  ,  0.  ,  6.5 ,  0.  ,  1.  ,  0.  ,  3.  ],\n",
       "       [ 1.  ,  0.  ,  0.  ,  2.  ,  1.  ,  1.  ,  0.  ,  3.  ],\n",
       "       [ 0.  ,  0.  ,  1.  ,  1.68,  0.  ,  0.  ,  1.  ,  2.  ],\n",
       "       [ 0.  ,  0.  ,  1.  ,  3.  ,  0.  ,  0.  ,  0.  ,  2.  ],\n",
       "       [ 1.  ,  0.  ,  0.  ,  4.08,  1.  ,  0.  ,  0.  ,  2.  ],\n",
       "       [ 0.  ,  1.  ,  0.  ,  3.5 ,  0.  ,  1.  ,  0.  ,  3.  ],\n",
       "       [ 1.  ,  0.  ,  0.  ,  3.  ,  0.  ,  0.  ,  0.  ,  3.  ],\n",
       "       [ 1.  ,  0.  ,  0.  ,  4.06,  1.  ,  1.  ,  0.  ,  2.  ],\n",
       "       [ 0.  ,  1.  ,  0.  ,  3.02,  0.  ,  0.  ,  0.  ,  2.  ],\n",
       "       [ 0.  ,  0.  ,  0.  ,  1.  ,  0.  ,  1.  ,  0.  ,  2.  ],\n",
       "       [ 0.  ,  1.  ,  0.  ,  3.55,  1.  ,  1.  ,  0.  ,  2.  ],\n",
       "       [ 1.  ,  0.  ,  0.  ,  2.5 ,  0.  ,  1.  ,  0.  ,  3.  ]])"
      ]
     },
     "execution_count": 129,
     "metadata": {},
     "output_type": "execute_result"
    }
   ],
   "source": [
    "import sys\n",
    "import numpy\n",
    "numpy.set_printoptions(threshold=sys.maxsize)\n",
    "X_train"
   ]
  },
  {
   "cell_type": "code",
   "execution_count": 130,
   "metadata": {},
   "outputs": [],
   "source": [
    "X_test = ct.transform(X_test)"
   ]
  },
  {
   "cell_type": "code",
   "execution_count": 131,
   "metadata": {},
   "outputs": [
    {
     "data": {
      "text/plain": [
       "array([[1.  , 0.  , 0.  , 3.18, 1.  , 0.  , 0.  , 2.  ],\n",
       "       [0.  , 1.  , 0.  , 2.  , 1.  , 0.  , 0.  , 2.  ],\n",
       "       [0.  , 1.  , 0.  , 2.  , 1.  , 0.  , 0.  , 4.  ],\n",
       "       [1.  , 0.  , 0.  , 5.16, 1.  , 1.  , 0.  , 4.  ],\n",
       "       [0.  , 0.  , 1.  , 2.  , 0.  , 1.  , 1.  , 2.  ],\n",
       "       [0.  , 1.  , 0.  , 2.  , 1.  , 1.  , 0.  , 2.  ],\n",
       "       [0.  , 0.  , 1.  , 2.56, 1.  , 1.  , 1.  , 2.  ],\n",
       "       [0.  , 0.  , 1.  , 2.52, 0.  , 0.  , 1.  , 2.  ],\n",
       "       [0.  , 1.  , 0.  , 3.23, 1.  , 0.  , 0.  , 2.  ],\n",
       "       [0.  , 0.  , 0.  , 3.  , 0.  , 1.  , 0.  , 2.  ],\n",
       "       [0.  , 1.  , 0.  , 3.  , 1.  , 0.  , 0.  , 2.  ],\n",
       "       [1.  , 0.  , 0.  , 1.47, 1.  , 0.  , 0.  , 2.  ],\n",
       "       [0.  , 0.  , 1.  , 1.5 , 0.  , 0.  , 1.  , 2.  ],\n",
       "       [0.  , 1.  , 0.  , 2.  , 1.  , 1.  , 0.  , 2.  ],\n",
       "       [0.  , 0.  , 1.  , 1.83, 0.  , 0.  , 1.  , 1.  ],\n",
       "       [0.  , 0.  , 1.  , 1.36, 0.  , 0.  , 1.  , 3.  ],\n",
       "       [0.  , 0.  , 1.  , 4.  , 1.  , 1.  , 1.  , 3.  ],\n",
       "       [0.  , 1.  , 0.  , 3.92, 1.  , 0.  , 0.  , 2.  ],\n",
       "       [1.  , 0.  , 0.  , 2.47, 0.  , 0.  , 0.  , 2.  ],\n",
       "       [0.  , 0.  , 1.  , 5.  , 1.  , 0.  , 1.  , 5.  ],\n",
       "       [1.  , 0.  , 0.  , 2.45, 0.  , 0.  , 0.  , 4.  ],\n",
       "       [1.  , 0.  , 0.  , 3.35, 1.  , 0.  , 0.  , 3.  ],\n",
       "       [1.  , 0.  , 0.  , 4.  , 0.  , 1.  , 0.  , 2.  ],\n",
       "       [1.  , 0.  , 0.  , 1.45, 1.  , 0.  , 0.  , 2.  ],\n",
       "       [0.  , 1.  , 0.  , 3.5 , 0.  , 1.  , 0.  , 3.  ],\n",
       "       [0.  , 0.  , 1.  , 2.31, 1.  , 0.  , 1.  , 2.  ],\n",
       "       [0.  , 1.  , 0.  , 1.71, 1.  , 0.  , 0.  , 2.  ],\n",
       "       [1.  , 0.  , 0.  , 5.  , 0.  , 1.  , 0.  , 2.  ],\n",
       "       [0.  , 1.  , 0.  , 2.  , 1.  , 0.  , 0.  , 4.  ],\n",
       "       [0.  , 1.  , 0.  , 5.  , 1.  , 0.  , 0.  , 6.  ],\n",
       "       [0.  , 1.  , 0.  , 4.  , 1.  , 0.  , 0.  , 3.  ],\n",
       "       [1.  , 0.  , 0.  , 1.44, 1.  , 1.  , 0.  , 2.  ],\n",
       "       [1.  , 0.  , 0.  , 2.34, 1.  , 0.  , 0.  , 4.  ],\n",
       "       [1.  , 0.  , 0.  , 3.21, 1.  , 1.  , 0.  , 2.  ],\n",
       "       [0.  , 1.  , 0.  , 3.5 , 0.  , 0.  , 0.  , 3.  ],\n",
       "       [0.  , 0.  , 1.  , 2.92, 0.  , 0.  , 1.  , 4.  ],\n",
       "       [0.  , 0.  , 0.  , 1.5 , 1.  , 1.  , 0.  , 2.  ],\n",
       "       [0.  , 0.  , 1.  , 5.  , 0.  , 1.  , 1.  , 4.  ],\n",
       "       [0.  , 0.  , 1.  , 2.75, 0.  , 0.  , 1.  , 2.  ],\n",
       "       [1.  , 0.  , 0.  , 2.  , 1.  , 1.  , 0.  , 2.  ],\n",
       "       [1.  , 0.  , 0.  , 1.25, 1.  , 0.  , 0.  , 2.  ],\n",
       "       [0.  , 0.  , 1.  , 2.  , 0.  , 0.  , 1.  , 2.  ],\n",
       "       [0.  , 1.  , 0.  , 2.55, 1.  , 0.  , 0.  , 2.  ],\n",
       "       [0.  , 1.  , 0.  , 1.67, 0.  , 0.  , 0.  , 3.  ],\n",
       "       [0.  , 0.  , 1.  , 2.  , 1.  , 1.  , 1.  , 2.  ],\n",
       "       [1.  , 0.  , 0.  , 1.  , 0.  , 1.  , 0.  , 1.  ],\n",
       "       [1.  , 0.  , 0.  , 1.61, 0.  , 1.  , 0.  , 2.  ],\n",
       "       [1.  , 0.  , 0.  , 2.31, 1.  , 0.  , 0.  , 3.  ],\n",
       "       [0.  , 0.  , 1.  , 1.44, 1.  , 0.  , 1.  , 2.  ]])"
      ]
     },
     "execution_count": 131,
     "metadata": {},
     "output_type": "execute_result"
    }
   ],
   "source": [
    "X_test"
   ]
  },
  {
   "cell_type": "code",
   "execution_count": 132,
   "metadata": {},
   "outputs": [],
   "source": [
    "from sklearn.svm import SVR\n",
    "svr = SVR()"
   ]
  },
  {
   "cell_type": "code",
   "execution_count": 133,
   "metadata": {},
   "outputs": [
    {
     "data": {
      "text/html": [
       "<style>#sk-container-id-7 {color: black;}#sk-container-id-7 pre{padding: 0;}#sk-container-id-7 div.sk-toggleable {background-color: white;}#sk-container-id-7 label.sk-toggleable__label {cursor: pointer;display: block;width: 100%;margin-bottom: 0;padding: 0.3em;box-sizing: border-box;text-align: center;}#sk-container-id-7 label.sk-toggleable__label-arrow:before {content: \"▸\";float: left;margin-right: 0.25em;color: #696969;}#sk-container-id-7 label.sk-toggleable__label-arrow:hover:before {color: black;}#sk-container-id-7 div.sk-estimator:hover label.sk-toggleable__label-arrow:before {color: black;}#sk-container-id-7 div.sk-toggleable__content {max-height: 0;max-width: 0;overflow: hidden;text-align: left;background-color: #f0f8ff;}#sk-container-id-7 div.sk-toggleable__content pre {margin: 0.2em;color: black;border-radius: 0.25em;background-color: #f0f8ff;}#sk-container-id-7 input.sk-toggleable__control:checked~div.sk-toggleable__content {max-height: 200px;max-width: 100%;overflow: auto;}#sk-container-id-7 input.sk-toggleable__control:checked~label.sk-toggleable__label-arrow:before {content: \"▾\";}#sk-container-id-7 div.sk-estimator input.sk-toggleable__control:checked~label.sk-toggleable__label {background-color: #d4ebff;}#sk-container-id-7 div.sk-label input.sk-toggleable__control:checked~label.sk-toggleable__label {background-color: #d4ebff;}#sk-container-id-7 input.sk-hidden--visually {border: 0;clip: rect(1px 1px 1px 1px);clip: rect(1px, 1px, 1px, 1px);height: 1px;margin: -1px;overflow: hidden;padding: 0;position: absolute;width: 1px;}#sk-container-id-7 div.sk-estimator {font-family: monospace;background-color: #f0f8ff;border: 1px dotted black;border-radius: 0.25em;box-sizing: border-box;margin-bottom: 0.5em;}#sk-container-id-7 div.sk-estimator:hover {background-color: #d4ebff;}#sk-container-id-7 div.sk-parallel-item::after {content: \"\";width: 100%;border-bottom: 1px solid gray;flex-grow: 1;}#sk-container-id-7 div.sk-label:hover label.sk-toggleable__label {background-color: #d4ebff;}#sk-container-id-7 div.sk-serial::before {content: \"\";position: absolute;border-left: 1px solid gray;box-sizing: border-box;top: 0;bottom: 0;left: 50%;z-index: 0;}#sk-container-id-7 div.sk-serial {display: flex;flex-direction: column;align-items: center;background-color: white;padding-right: 0.2em;padding-left: 0.2em;position: relative;}#sk-container-id-7 div.sk-item {position: relative;z-index: 1;}#sk-container-id-7 div.sk-parallel {display: flex;align-items: stretch;justify-content: center;background-color: white;position: relative;}#sk-container-id-7 div.sk-item::before, #sk-container-id-7 div.sk-parallel-item::before {content: \"\";position: absolute;border-left: 1px solid gray;box-sizing: border-box;top: 0;bottom: 0;left: 50%;z-index: -1;}#sk-container-id-7 div.sk-parallel-item {display: flex;flex-direction: column;z-index: 1;position: relative;background-color: white;}#sk-container-id-7 div.sk-parallel-item:first-child::after {align-self: flex-end;width: 50%;}#sk-container-id-7 div.sk-parallel-item:last-child::after {align-self: flex-start;width: 50%;}#sk-container-id-7 div.sk-parallel-item:only-child::after {width: 0;}#sk-container-id-7 div.sk-dashed-wrapped {border: 1px dashed gray;margin: 0 0.4em 0.5em 0.4em;box-sizing: border-box;padding-bottom: 0.4em;background-color: white;}#sk-container-id-7 div.sk-label label {font-family: monospace;font-weight: bold;display: inline-block;line-height: 1.2em;}#sk-container-id-7 div.sk-label-container {text-align: center;}#sk-container-id-7 div.sk-container {/* jupyter's `normalize.less` sets `[hidden] { display: none; }` but bootstrap.min.css set `[hidden] { display: none !important; }` so we also need the `!important` here to be able to override the default hidden behavior on the sphinx rendered scikit-learn.org. See: https://github.com/scikit-learn/scikit-learn/issues/21755 */display: inline-block !important;position: relative;}#sk-container-id-7 div.sk-text-repr-fallback {display: none;}</style><div id=\"sk-container-id-7\" class=\"sk-top-container\"><div class=\"sk-text-repr-fallback\"><pre>SVR()</pre><b>In a Jupyter environment, please rerun this cell to show the HTML representation or trust the notebook. <br />On GitHub, the HTML representation is unable to render, please try loading this page with nbviewer.org.</b></div><div class=\"sk-container\" hidden><div class=\"sk-item\"><div class=\"sk-estimator sk-toggleable\"><input class=\"sk-toggleable__control sk-hidden--visually\" id=\"sk-estimator-id-13\" type=\"checkbox\" checked><label for=\"sk-estimator-id-13\" class=\"sk-toggleable__label sk-toggleable__label-arrow\">SVR</label><div class=\"sk-toggleable__content\"><pre>SVR()</pre></div></div></div></div></div>"
      ],
      "text/plain": [
       "SVR()"
      ]
     },
     "execution_count": 133,
     "metadata": {},
     "output_type": "execute_result"
    }
   ],
   "source": [
    "svr.fit(X_train,y_train)"
   ]
  },
  {
   "cell_type": "code",
   "execution_count": 134,
   "metadata": {},
   "outputs": [],
   "source": [
    "y_pred = svr.predict(X_test)"
   ]
  },
  {
   "cell_type": "code",
   "execution_count": 135,
   "metadata": {},
   "outputs": [
    {
     "data": {
      "text/plain": [
       "(49,)"
      ]
     },
     "execution_count": 135,
     "metadata": {},
     "output_type": "execute_result"
    }
   ],
   "source": [
    "y_pred.shape"
   ]
  },
  {
   "cell_type": "code",
   "execution_count": 136,
   "metadata": {},
   "outputs": [
    {
     "data": {
      "text/plain": [
       "(49,)"
      ]
     },
     "execution_count": 136,
     "metadata": {},
     "output_type": "execute_result"
    }
   ],
   "source": [
    "y_test.shape"
   ]
  },
  {
   "cell_type": "code",
   "execution_count": 137,
   "metadata": {},
   "outputs": [
    {
     "name": "stdout",
     "output_type": "stream",
     "text": [
      "0.5502250005312896\n",
      "4.413774883497757\n"
     ]
    }
   ],
   "source": [
    "from sklearn.metrics import r2_score, mean_absolute_error\n",
    "\n",
    "print(r2_score(y_test,y_pred))\n",
    "print(mean_absolute_error(y_test,y_pred))"
   ]
  },
  {
   "cell_type": "code",
   "execution_count": 138,
   "metadata": {},
   "outputs": [],
   "source": [
    "## hyper parameter tuning using grid searchcv\n",
    "from sklearn.model_selection import GridSearchCV\n",
    "\n",
    "param_grid  = {\n",
    "       'C':[0.1,0.01,0.001,0.0001],\n",
    "       'gamma':[1,0.1,0.01,0.001,0.0001],\n",
    "       'kernel':['rbf','linear','poly','sigmoid']\n",
    "}"
   ]
  },
  {
   "cell_type": "code",
   "execution_count": 141,
   "metadata": {},
   "outputs": [
    {
     "name": "stdout",
     "output_type": "stream",
     "text": [
      "Fitting 5 folds for each of 80 candidates, totalling 400 fits\n",
      "[CV 1/5] END .......C=0.1, gamma=1, kernel=rbf;, score=-0.119 total time=   0.0s\n",
      "[CV 2/5] END .......C=0.1, gamma=1, kernel=rbf;, score=-0.014 total time=   0.0s\n",
      "[CV 3/5] END .......C=0.1, gamma=1, kernel=rbf;, score=-0.017 total time=   0.0s\n",
      "[CV 4/5] END .......C=0.1, gamma=1, kernel=rbf;, score=-0.019 total time=   0.0s\n",
      "[CV 5/5] END .......C=0.1, gamma=1, kernel=rbf;, score=-0.042 total time=   0.0s\n",
      "[CV 1/5] END .....C=0.1, gamma=1, kernel=linear;, score=0.381 total time=   0.0s\n",
      "[CV 2/5] END .....C=0.1, gamma=1, kernel=linear;, score=0.636 total time=   0.0s\n",
      "[CV 3/5] END .....C=0.1, gamma=1, kernel=linear;, score=0.487 total time=   0.0s\n",
      "[CV 4/5] END .....C=0.1, gamma=1, kernel=linear;, score=0.525 total time=   0.0s\n",
      "[CV 5/5] END .....C=0.1, gamma=1, kernel=linear;, score=0.260 total time=   0.0s\n",
      "[CV 1/5] END .......C=0.1, gamma=1, kernel=poly;, score=0.216 total time=   0.0s\n",
      "[CV 2/5] END ......C=0.1, gamma=1, kernel=poly;, score=-0.345 total time=   0.0s\n",
      "[CV 3/5] END .......C=0.1, gamma=1, kernel=poly;, score=0.139 total time=   0.0s\n",
      "[CV 4/5] END .......C=0.1, gamma=1, kernel=poly;, score=0.468 total time=   0.0s\n",
      "[CV 5/5] END .......C=0.1, gamma=1, kernel=poly;, score=0.185 total time=   0.0s\n",
      "[CV 1/5] END ...C=0.1, gamma=1, kernel=sigmoid;, score=-0.172 total time=   0.0s\n",
      "[CV 2/5] END ...C=0.1, gamma=1, kernel=sigmoid;, score=-0.043 total time=   0.0s\n",
      "[CV 3/5] END ...C=0.1, gamma=1, kernel=sigmoid;, score=-0.059 total time=   0.0s\n",
      "[CV 4/5] END ...C=0.1, gamma=1, kernel=sigmoid;, score=-0.046 total time=   0.0s\n",
      "[CV 5/5] END ...C=0.1, gamma=1, kernel=sigmoid;, score=-0.090 total time=   0.0s\n",
      "[CV 1/5] END ......C=0.1, gamma=0.1, kernel=rbf;, score=0.013 total time=   0.0s\n",
      "[CV 2/5] END ......C=0.1, gamma=0.1, kernel=rbf;, score=0.099 total time=   0.0s\n",
      "[CV 3/5] END ......C=0.1, gamma=0.1, kernel=rbf;, score=0.080 total time=   0.0s\n",
      "[CV 4/5] END ......C=0.1, gamma=0.1, kernel=rbf;, score=0.080 total time=   0.0s\n",
      "[CV 5/5] END ......C=0.1, gamma=0.1, kernel=rbf;, score=0.049 total time=   0.0s\n",
      "[CV 1/5] END ...C=0.1, gamma=0.1, kernel=linear;, score=0.381 total time=   0.0s\n",
      "[CV 2/5] END ...C=0.1, gamma=0.1, kernel=linear;, score=0.636 total time=   0.0s\n",
      "[CV 3/5] END ...C=0.1, gamma=0.1, kernel=linear;, score=0.487 total time=   0.0s\n",
      "[CV 4/5] END ...C=0.1, gamma=0.1, kernel=linear;, score=0.525 total time=   0.0s\n",
      "[CV 5/5] END ...C=0.1, gamma=0.1, kernel=linear;, score=0.260 total time=   0.0s\n",
      "[CV 1/5] END .....C=0.1, gamma=0.1, kernel=poly;, score=0.304 total time=   0.0s\n",
      "[CV 2/5] END .....C=0.1, gamma=0.1, kernel=poly;, score=0.583 total time=   0.0s\n",
      "[CV 3/5] END .....C=0.1, gamma=0.1, kernel=poly;, score=0.337 total time=   0.0s\n",
      "[CV 4/5] END .....C=0.1, gamma=0.1, kernel=poly;, score=0.572 total time=   0.0s\n",
      "[CV 5/5] END .....C=0.1, gamma=0.1, kernel=poly;, score=0.224 total time=   0.0s\n",
      "[CV 1/5] END .C=0.1, gamma=0.1, kernel=sigmoid;, score=-0.238 total time=   0.0s\n",
      "[CV 2/5] END .C=0.1, gamma=0.1, kernel=sigmoid;, score=-0.094 total time=   0.0s\n",
      "[CV 3/5] END .C=0.1, gamma=0.1, kernel=sigmoid;, score=-0.103 total time=   0.0s\n",
      "[CV 4/5] END .C=0.1, gamma=0.1, kernel=sigmoid;, score=-0.095 total time=   0.0s\n",
      "[CV 5/5] END .C=0.1, gamma=0.1, kernel=sigmoid;, score=-0.139 total time=   0.0s\n",
      "[CV 1/5] END ....C=0.1, gamma=0.01, kernel=rbf;, score=-0.109 total time=   0.0s\n",
      "[CV 2/5] END .....C=0.1, gamma=0.01, kernel=rbf;, score=0.016 total time=   0.0s\n",
      "[CV 3/5] END ....C=0.1, gamma=0.01, kernel=rbf;, score=-0.010 total time=   0.0s\n",
      "[CV 4/5] END .....C=0.1, gamma=0.01, kernel=rbf;, score=0.012 total time=   0.0s\n",
      "[CV 5/5] END ....C=0.1, gamma=0.01, kernel=rbf;, score=-0.042 total time=   0.0s\n",
      "[CV 1/5] END ..C=0.1, gamma=0.01, kernel=linear;, score=0.381 total time=   0.0s\n",
      "[CV 2/5] END ..C=0.1, gamma=0.01, kernel=linear;, score=0.636 total time=   0.0s\n",
      "[CV 3/5] END ..C=0.1, gamma=0.01, kernel=linear;, score=0.487 total time=   0.0s\n",
      "[CV 4/5] END ..C=0.1, gamma=0.01, kernel=linear;, score=0.525 total time=   0.0s\n",
      "[CV 5/5] END ..C=0.1, gamma=0.01, kernel=linear;, score=0.260 total time=   0.0s\n",
      "[CV 1/5] END ...C=0.1, gamma=0.01, kernel=poly;, score=-0.154 total time=   0.0s\n",
      "[CV 2/5] END ...C=0.1, gamma=0.01, kernel=poly;, score=-0.014 total time=   0.0s\n",
      "[CV 3/5] END ...C=0.1, gamma=0.01, kernel=poly;, score=-0.040 total time=   0.0s\n",
      "[CV 4/5] END ...C=0.1, gamma=0.01, kernel=poly;, score=-0.019 total time=   0.0s\n",
      "[CV 5/5] END ...C=0.1, gamma=0.01, kernel=poly;, score=-0.077 total time=   0.0s\n",
      "[CV 1/5] END C=0.1, gamma=0.01, kernel=sigmoid;, score=-0.138 total time=   0.0s\n",
      "[CV 2/5] END C=0.1, gamma=0.01, kernel=sigmoid;, score=-0.011 total time=   0.0s\n",
      "[CV 3/5] END C=0.1, gamma=0.01, kernel=sigmoid;, score=-0.034 total time=   0.0s\n",
      "[CV 4/5] END C=0.1, gamma=0.01, kernel=sigmoid;, score=-0.015 total time=   0.0s\n",
      "[CV 5/5] END C=0.1, gamma=0.01, kernel=sigmoid;, score=-0.065 total time=   0.0s\n",
      "[CV 1/5] END ...C=0.1, gamma=0.001, kernel=rbf;, score=-0.165 total time=   0.0s\n",
      "[CV 2/5] END ...C=0.1, gamma=0.001, kernel=rbf;, score=-0.035 total time=   0.0s\n",
      "[CV 3/5] END ...C=0.1, gamma=0.001, kernel=rbf;, score=-0.052 total time=   0.0s\n",
      "[CV 4/5] END ...C=0.1, gamma=0.001, kernel=rbf;, score=-0.039 total time=   0.0s\n",
      "[CV 5/5] END ...C=0.1, gamma=0.001, kernel=rbf;, score=-0.085 total time=   0.0s\n",
      "[CV 1/5] END .C=0.1, gamma=0.001, kernel=linear;, score=0.381 total time=   0.0s\n",
      "[CV 2/5] END .C=0.1, gamma=0.001, kernel=linear;, score=0.636 total time=   0.0s\n",
      "[CV 3/5] END .C=0.1, gamma=0.001, kernel=linear;, score=0.487 total time=   0.0s\n",
      "[CV 4/5] END .C=0.1, gamma=0.001, kernel=linear;, score=0.525 total time=   0.0s\n",
      "[CV 5/5] END .C=0.1, gamma=0.001, kernel=linear;, score=0.260 total time=   0.0s\n",
      "[CV 1/5] END ..C=0.1, gamma=0.001, kernel=poly;, score=-0.172 total time=   0.0s\n",
      "[CV 2/5] END ..C=0.1, gamma=0.001, kernel=poly;, score=-0.043 total time=   0.0s\n",
      "[CV 3/5] END ..C=0.1, gamma=0.001, kernel=poly;, score=-0.059 total time=   0.0s\n",
      "[CV 4/5] END ..C=0.1, gamma=0.001, kernel=poly;, score=-0.046 total time=   0.0s\n",
      "[CV 5/5] END ..C=0.1, gamma=0.001, kernel=poly;, score=-0.090 total time=   0.0s\n",
      "[CV 1/5] END C=0.1, gamma=0.001, kernel=sigmoid;, score=-0.168 total time=   0.0s\n",
      "[CV 2/5] END C=0.1, gamma=0.001, kernel=sigmoid;, score=-0.039 total time=   0.0s\n",
      "[CV 3/5] END C=0.1, gamma=0.001, kernel=sigmoid;, score=-0.055 total time=   0.0s\n",
      "[CV 4/5] END C=0.1, gamma=0.001, kernel=sigmoid;, score=-0.042 total time=   0.0s\n",
      "[CV 5/5] END C=0.1, gamma=0.001, kernel=sigmoid;, score=-0.087 total time=   0.0s\n",
      "[CV 1/5] END ..C=0.1, gamma=0.0001, kernel=rbf;, score=-0.171 total time=   0.0s\n",
      "[CV 2/5] END ..C=0.1, gamma=0.0001, kernel=rbf;, score=-0.042 total time=   0.0s\n",
      "[CV 3/5] END ..C=0.1, gamma=0.0001, kernel=rbf;, score=-0.058 total time=   0.0s\n",
      "[CV 4/5] END ..C=0.1, gamma=0.0001, kernel=rbf;, score=-0.045 total time=   0.0s\n",
      "[CV 5/5] END ..C=0.1, gamma=0.0001, kernel=rbf;, score=-0.090 total time=   0.0s\n",
      "[CV 1/5] END C=0.1, gamma=0.0001, kernel=linear;, score=0.381 total time=   0.0s\n",
      "[CV 2/5] END C=0.1, gamma=0.0001, kernel=linear;, score=0.636 total time=   0.0s\n",
      "[CV 3/5] END C=0.1, gamma=0.0001, kernel=linear;, score=0.487 total time=   0.0s\n",
      "[CV 4/5] END C=0.1, gamma=0.0001, kernel=linear;, score=0.525 total time=   0.0s\n",
      "[CV 5/5] END C=0.1, gamma=0.0001, kernel=linear;, score=0.260 total time=   0.0s\n",
      "[CV 1/5] END .C=0.1, gamma=0.0001, kernel=poly;, score=-0.172 total time=   0.0s\n",
      "[CV 2/5] END .C=0.1, gamma=0.0001, kernel=poly;, score=-0.043 total time=   0.0s\n",
      "[CV 3/5] END .C=0.1, gamma=0.0001, kernel=poly;, score=-0.059 total time=   0.0s\n",
      "[CV 4/5] END .C=0.1, gamma=0.0001, kernel=poly;, score=-0.046 total time=   0.0s\n",
      "[CV 5/5] END .C=0.1, gamma=0.0001, kernel=poly;, score=-0.090 total time=   0.0s\n",
      "[CV 1/5] END C=0.1, gamma=0.0001, kernel=sigmoid;, score=-0.172 total time=   0.0s\n",
      "[CV 2/5] END C=0.1, gamma=0.0001, kernel=sigmoid;, score=-0.043 total time=   0.0s\n",
      "[CV 3/5] END C=0.1, gamma=0.0001, kernel=sigmoid;, score=-0.058 total time=   0.0s\n",
      "[CV 4/5] END C=0.1, gamma=0.0001, kernel=sigmoid;, score=-0.046 total time=   0.0s\n",
      "[CV 5/5] END C=0.1, gamma=0.0001, kernel=sigmoid;, score=-0.090 total time=   0.0s\n",
      "[CV 1/5] END ......C=0.01, gamma=1, kernel=rbf;, score=-0.165 total time=   0.0s\n",
      "[CV 2/5] END ......C=0.01, gamma=1, kernel=rbf;, score=-0.040 total time=   0.0s\n",
      "[CV 3/5] END ......C=0.01, gamma=1, kernel=rbf;, score=-0.054 total time=   0.0s\n",
      "[CV 4/5] END ......C=0.01, gamma=1, kernel=rbf;, score=-0.044 total time=   0.0s\n",
      "[CV 5/5] END ......C=0.01, gamma=1, kernel=rbf;, score=-0.085 total time=   0.0s\n",
      "[CV 1/5] END ....C=0.01, gamma=1, kernel=linear;, score=0.060 total time=   0.0s\n",
      "[CV 2/5] END ....C=0.01, gamma=1, kernel=linear;, score=0.267 total time=   0.0s\n",
      "[CV 3/5] END ....C=0.01, gamma=1, kernel=linear;, score=0.187 total time=   0.0s\n",
      "[CV 4/5] END ....C=0.01, gamma=1, kernel=linear;, score=0.237 total time=   0.0s\n",
      "[CV 5/5] END ....C=0.01, gamma=1, kernel=linear;, score=0.096 total time=   0.0s\n",
      "[CV 1/5] END ......C=0.01, gamma=1, kernel=poly;, score=0.386 total time=   0.0s\n",
      "[CV 2/5] END ......C=0.01, gamma=1, kernel=poly;, score=0.445 total time=   0.0s\n",
      "[CV 3/5] END ......C=0.01, gamma=1, kernel=poly;, score=0.193 total time=   0.0s\n",
      "[CV 4/5] END ......C=0.01, gamma=1, kernel=poly;, score=0.556 total time=   0.0s\n",
      "[CV 5/5] END ......C=0.01, gamma=1, kernel=poly;, score=0.293 total time=   0.0s\n",
      "[CV 1/5] END ..C=0.01, gamma=1, kernel=sigmoid;, score=-0.172 total time=   0.0s\n",
      "[CV 2/5] END ..C=0.01, gamma=1, kernel=sigmoid;, score=-0.043 total time=   0.0s\n",
      "[CV 3/5] END ..C=0.01, gamma=1, kernel=sigmoid;, score=-0.059 total time=   0.0s\n",
      "[CV 4/5] END ..C=0.01, gamma=1, kernel=sigmoid;, score=-0.046 total time=   0.0s\n",
      "[CV 5/5] END ..C=0.01, gamma=1, kernel=sigmoid;, score=-0.090 total time=   0.0s\n",
      "[CV 1/5] END ....C=0.01, gamma=0.1, kernel=rbf;, score=-0.144 total time=   0.0s\n",
      "[CV 2/5] END ....C=0.01, gamma=0.1, kernel=rbf;, score=-0.026 total time=   0.0s\n",
      "[CV 3/5] END ....C=0.01, gamma=0.1, kernel=rbf;, score=-0.043 total time=   0.0s\n",
      "[CV 4/5] END ....C=0.01, gamma=0.1, kernel=rbf;, score=-0.030 total time=   0.0s\n",
      "[CV 5/5] END ....C=0.01, gamma=0.1, kernel=rbf;, score=-0.070 total time=   0.0s\n",
      "[CV 1/5] END ..C=0.01, gamma=0.1, kernel=linear;, score=0.060 total time=   0.0s\n",
      "[CV 2/5] END ..C=0.01, gamma=0.1, kernel=linear;, score=0.267 total time=   0.0s\n",
      "[CV 3/5] END ..C=0.01, gamma=0.1, kernel=linear;, score=0.187 total time=   0.0s\n",
      "[CV 4/5] END ..C=0.01, gamma=0.1, kernel=linear;, score=0.237 total time=   0.0s\n",
      "[CV 5/5] END ..C=0.01, gamma=0.1, kernel=linear;, score=0.096 total time=   0.0s\n",
      "[CV 1/5] END ....C=0.01, gamma=0.1, kernel=poly;, score=0.168 total time=   0.0s\n",
      "[CV 2/5] END ....C=0.01, gamma=0.1, kernel=poly;, score=0.593 total time=   0.0s\n",
      "[CV 3/5] END ....C=0.01, gamma=0.1, kernel=poly;, score=0.369 total time=   0.0s\n",
      "[CV 4/5] END ....C=0.01, gamma=0.1, kernel=poly;, score=0.558 total time=   0.0s\n",
      "[CV 5/5] END ....C=0.01, gamma=0.1, kernel=poly;, score=0.173 total time=   0.0s\n",
      "[CV 1/5] END C=0.01, gamma=0.1, kernel=sigmoid;, score=-0.179 total time=   0.0s\n",
      "[CV 2/5] END C=0.01, gamma=0.1, kernel=sigmoid;, score=-0.048 total time=   0.0s\n",
      "[CV 3/5] END C=0.01, gamma=0.1, kernel=sigmoid;, score=-0.063 total time=   0.0s\n",
      "[CV 4/5] END C=0.01, gamma=0.1, kernel=sigmoid;, score=-0.050 total time=   0.0s\n",
      "[CV 5/5] END C=0.01, gamma=0.1, kernel=sigmoid;, score=-0.095 total time=   0.0s\n",
      "[CV 1/5] END ...C=0.01, gamma=0.01, kernel=rbf;, score=-0.165 total time=   0.0s\n",
      "[CV 2/5] END ...C=0.01, gamma=0.01, kernel=rbf;, score=-0.037 total time=   0.0s\n",
      "[CV 3/5] END ...C=0.01, gamma=0.01, kernel=rbf;, score=-0.053 total time=   0.0s\n",
      "[CV 4/5] END ...C=0.01, gamma=0.01, kernel=rbf;, score=-0.040 total time=   0.0s\n",
      "[CV 5/5] END ...C=0.01, gamma=0.01, kernel=rbf;, score=-0.085 total time=   0.0s\n",
      "[CV 1/5] END .C=0.01, gamma=0.01, kernel=linear;, score=0.060 total time=   0.0s\n",
      "[CV 2/5] END .C=0.01, gamma=0.01, kernel=linear;, score=0.267 total time=   0.0s\n",
      "[CV 3/5] END .C=0.01, gamma=0.01, kernel=linear;, score=0.187 total time=   0.0s\n",
      "[CV 4/5] END .C=0.01, gamma=0.01, kernel=linear;, score=0.237 total time=   0.0s\n",
      "[CV 5/5] END .C=0.01, gamma=0.01, kernel=linear;, score=0.096 total time=   0.0s\n",
      "[CV 1/5] END ..C=0.01, gamma=0.01, kernel=poly;, score=-0.170 total time=   0.0s\n",
      "[CV 2/5] END ..C=0.01, gamma=0.01, kernel=poly;, score=-0.040 total time=   0.0s\n",
      "[CV 3/5] END ..C=0.01, gamma=0.01, kernel=poly;, score=-0.057 total time=   0.0s\n",
      "[CV 4/5] END ..C=0.01, gamma=0.01, kernel=poly;, score=-0.043 total time=   0.0s\n",
      "[CV 5/5] END ..C=0.01, gamma=0.01, kernel=poly;, score=-0.089 total time=   0.0s\n",
      "[CV 1/5] END C=0.01, gamma=0.01, kernel=sigmoid;, score=-0.169 total time=   0.0s\n",
      "[CV 2/5] END C=0.01, gamma=0.01, kernel=sigmoid;, score=-0.040 total time=   0.0s\n",
      "[CV 3/5] END C=0.01, gamma=0.01, kernel=sigmoid;, score=-0.056 total time=   0.0s\n",
      "[CV 4/5] END C=0.01, gamma=0.01, kernel=sigmoid;, score=-0.043 total time=   0.0s\n",
      "[CV 5/5] END C=0.01, gamma=0.01, kernel=sigmoid;, score=-0.088 total time=   0.0s\n",
      "[CV 1/5] END ..C=0.01, gamma=0.001, kernel=rbf;, score=-0.171 total time=   0.0s\n",
      "[CV 2/5] END ..C=0.01, gamma=0.001, kernel=rbf;, score=-0.042 total time=   0.0s\n",
      "[CV 3/5] END ..C=0.01, gamma=0.001, kernel=rbf;, score=-0.058 total time=   0.0s\n",
      "[CV 4/5] END ..C=0.01, gamma=0.001, kernel=rbf;, score=-0.045 total time=   0.0s\n",
      "[CV 5/5] END ..C=0.01, gamma=0.001, kernel=rbf;, score=-0.090 total time=   0.0s\n",
      "[CV 1/5] END C=0.01, gamma=0.001, kernel=linear;, score=0.060 total time=   0.0s\n",
      "[CV 2/5] END C=0.01, gamma=0.001, kernel=linear;, score=0.267 total time=   0.0s\n",
      "[CV 3/5] END C=0.01, gamma=0.001, kernel=linear;, score=0.187 total time=   0.0s\n",
      "[CV 4/5] END C=0.01, gamma=0.001, kernel=linear;, score=0.237 total time=   0.0s\n",
      "[CV 5/5] END C=0.01, gamma=0.001, kernel=linear;, score=0.096 total time=   0.0s\n",
      "[CV 1/5] END .C=0.01, gamma=0.001, kernel=poly;, score=-0.172 total time=   0.0s\n",
      "[CV 2/5] END .C=0.01, gamma=0.001, kernel=poly;, score=-0.043 total time=   0.0s\n",
      "[CV 3/5] END .C=0.01, gamma=0.001, kernel=poly;, score=-0.059 total time=   0.0s\n",
      "[CV 4/5] END .C=0.01, gamma=0.001, kernel=poly;, score=-0.046 total time=   0.0s\n",
      "[CV 5/5] END .C=0.01, gamma=0.001, kernel=poly;, score=-0.090 total time=   0.0s\n",
      "[CV 1/5] END C=0.01, gamma=0.001, kernel=sigmoid;, score=-0.172 total time=   0.0s\n",
      "[CV 2/5] END C=0.01, gamma=0.001, kernel=sigmoid;, score=-0.043 total time=   0.0s\n",
      "[CV 3/5] END C=0.01, gamma=0.001, kernel=sigmoid;, score=-0.058 total time=   0.0s\n",
      "[CV 4/5] END C=0.01, gamma=0.001, kernel=sigmoid;, score=-0.046 total time=   0.0s\n",
      "[CV 5/5] END C=0.01, gamma=0.001, kernel=sigmoid;, score=-0.090 total time=   0.0s\n",
      "[CV 1/5] END .C=0.01, gamma=0.0001, kernel=rbf;, score=-0.172 total time=   0.0s\n",
      "[CV 2/5] END .C=0.01, gamma=0.0001, kernel=rbf;, score=-0.043 total time=   0.0s\n",
      "[CV 3/5] END .C=0.01, gamma=0.0001, kernel=rbf;, score=-0.059 total time=   0.0s\n",
      "[CV 4/5] END .C=0.01, gamma=0.0001, kernel=rbf;, score=-0.046 total time=   0.0s\n",
      "[CV 5/5] END .C=0.01, gamma=0.0001, kernel=rbf;, score=-0.090 total time=   0.0s\n",
      "[CV 1/5] END C=0.01, gamma=0.0001, kernel=linear;, score=0.060 total time=   0.0s\n",
      "[CV 2/5] END C=0.01, gamma=0.0001, kernel=linear;, score=0.267 total time=   0.0s\n",
      "[CV 3/5] END C=0.01, gamma=0.0001, kernel=linear;, score=0.187 total time=   0.0s\n",
      "[CV 4/5] END C=0.01, gamma=0.0001, kernel=linear;, score=0.237 total time=   0.0s\n",
      "[CV 5/5] END C=0.01, gamma=0.0001, kernel=linear;, score=0.096 total time=   0.0s\n",
      "[CV 1/5] END C=0.01, gamma=0.0001, kernel=poly;, score=-0.172 total time=   0.0s\n",
      "[CV 2/5] END C=0.01, gamma=0.0001, kernel=poly;, score=-0.043 total time=   0.0s\n",
      "[CV 3/5] END C=0.01, gamma=0.0001, kernel=poly;, score=-0.059 total time=   0.0s\n",
      "[CV 4/5] END C=0.01, gamma=0.0001, kernel=poly;, score=-0.046 total time=   0.0s\n",
      "[CV 5/5] END C=0.01, gamma=0.0001, kernel=poly;, score=-0.090 total time=   0.0s\n",
      "[CV 1/5] END C=0.01, gamma=0.0001, kernel=sigmoid;, score=-0.172 total time=   0.0s\n",
      "[CV 2/5] END C=0.01, gamma=0.0001, kernel=sigmoid;, score=-0.043 total time=   0.0s\n",
      "[CV 3/5] END C=0.01, gamma=0.0001, kernel=sigmoid;, score=-0.059 total time=   0.0s\n",
      "[CV 4/5] END C=0.01, gamma=0.0001, kernel=sigmoid;, score=-0.046 total time=   0.0s\n",
      "[CV 5/5] END C=0.01, gamma=0.0001, kernel=sigmoid;, score=-0.090 total time=   0.0s\n",
      "[CV 1/5] END .....C=0.001, gamma=1, kernel=rbf;, score=-0.171 total time=   0.0s\n",
      "[CV 2/5] END .....C=0.001, gamma=1, kernel=rbf;, score=-0.043 total time=   0.0s\n",
      "[CV 3/5] END .....C=0.001, gamma=1, kernel=rbf;, score=-0.058 total time=   0.0s\n",
      "[CV 4/5] END .....C=0.001, gamma=1, kernel=rbf;, score=-0.046 total time=   0.0s\n",
      "[CV 5/5] END .....C=0.001, gamma=1, kernel=rbf;, score=-0.090 total time=   0.0s\n",
      "[CV 1/5] END ..C=0.001, gamma=1, kernel=linear;, score=-0.133 total time=   0.0s\n",
      "[CV 2/5] END ..C=0.001, gamma=1, kernel=linear;, score=-0.003 total time=   0.0s\n",
      "[CV 3/5] END ..C=0.001, gamma=1, kernel=linear;, score=-0.029 total time=   0.0s\n",
      "[CV 4/5] END ..C=0.001, gamma=1, kernel=linear;, score=-0.007 total time=   0.0s\n",
      "[CV 5/5] END ..C=0.001, gamma=1, kernel=linear;, score=-0.061 total time=   0.0s\n",
      "[CV 1/5] END .....C=0.001, gamma=1, kernel=poly;, score=0.419 total time=   0.0s\n",
      "[CV 2/5] END .....C=0.001, gamma=1, kernel=poly;, score=0.538 total time=   0.0s\n",
      "[CV 3/5] END .....C=0.001, gamma=1, kernel=poly;, score=0.235 total time=   0.0s\n",
      "[CV 4/5] END .....C=0.001, gamma=1, kernel=poly;, score=0.584 total time=   0.0s\n",
      "[CV 5/5] END .....C=0.001, gamma=1, kernel=poly;, score=0.289 total time=   0.0s\n",
      "[CV 1/5] END .C=0.001, gamma=1, kernel=sigmoid;, score=-0.172 total time=   0.0s\n",
      "[CV 2/5] END .C=0.001, gamma=1, kernel=sigmoid;, score=-0.043 total time=   0.0s\n",
      "[CV 3/5] END .C=0.001, gamma=1, kernel=sigmoid;, score=-0.059 total time=   0.0s\n",
      "[CV 4/5] END .C=0.001, gamma=1, kernel=sigmoid;, score=-0.046 total time=   0.0s\n",
      "[CV 5/5] END .C=0.001, gamma=1, kernel=sigmoid;, score=-0.090 total time=   0.0s\n",
      "[CV 1/5] END ...C=0.001, gamma=0.1, kernel=rbf;, score=-0.169 total time=   0.0s\n",
      "[CV 2/5] END ...C=0.001, gamma=0.1, kernel=rbf;, score=-0.041 total time=   0.0s\n",
      "[CV 3/5] END ...C=0.001, gamma=0.1, kernel=rbf;, score=-0.057 total time=   0.0s\n",
      "[CV 4/5] END ...C=0.001, gamma=0.1, kernel=rbf;, score=-0.045 total time=   0.0s\n",
      "[CV 5/5] END ...C=0.001, gamma=0.1, kernel=rbf;, score=-0.088 total time=   0.0s\n",
      "[CV 1/5] END C=0.001, gamma=0.1, kernel=linear;, score=-0.133 total time=   0.0s\n",
      "[CV 2/5] END C=0.001, gamma=0.1, kernel=linear;, score=-0.003 total time=   0.0s\n",
      "[CV 3/5] END C=0.001, gamma=0.1, kernel=linear;, score=-0.029 total time=   0.0s\n",
      "[CV 4/5] END C=0.001, gamma=0.1, kernel=linear;, score=-0.007 total time=   0.0s\n",
      "[CV 5/5] END C=0.001, gamma=0.1, kernel=linear;, score=-0.061 total time=   0.0s\n",
      "[CV 1/5] END ..C=0.001, gamma=0.1, kernel=poly;, score=-0.026 total time=   0.0s\n",
      "[CV 2/5] END ...C=0.001, gamma=0.1, kernel=poly;, score=0.208 total time=   0.0s\n",
      "[CV 3/5] END ...C=0.001, gamma=0.1, kernel=poly;, score=0.100 total time=   0.0s\n",
      "[CV 4/5] END ...C=0.001, gamma=0.1, kernel=poly;, score=0.195 total time=   0.0s\n",
      "[CV 5/5] END ...C=0.001, gamma=0.1, kernel=poly;, score=0.016 total time=   0.0s\n",
      "[CV 1/5] END C=0.001, gamma=0.1, kernel=sigmoid;, score=-0.173 total time=   0.0s\n",
      "[CV 2/5] END C=0.001, gamma=0.1, kernel=sigmoid;, score=-0.044 total time=   0.0s\n",
      "[CV 3/5] END C=0.001, gamma=0.1, kernel=sigmoid;, score=-0.059 total time=   0.0s\n",
      "[CV 4/5] END C=0.001, gamma=0.1, kernel=sigmoid;, score=-0.046 total time=   0.0s\n",
      "[CV 5/5] END C=0.001, gamma=0.1, kernel=sigmoid;, score=-0.091 total time=   0.0s\n",
      "[CV 1/5] END ..C=0.001, gamma=0.01, kernel=rbf;, score=-0.171 total time=   0.0s\n",
      "[CV 2/5] END ..C=0.001, gamma=0.01, kernel=rbf;, score=-0.043 total time=   0.0s\n",
      "[CV 3/5] END ..C=0.001, gamma=0.01, kernel=rbf;, score=-0.058 total time=   0.0s\n",
      "[CV 4/5] END ..C=0.001, gamma=0.01, kernel=rbf;, score=-0.045 total time=   0.0s\n",
      "[CV 5/5] END ..C=0.001, gamma=0.01, kernel=rbf;, score=-0.090 total time=   0.0s\n",
      "[CV 1/5] END C=0.001, gamma=0.01, kernel=linear;, score=-0.133 total time=   0.0s\n",
      "[CV 2/5] END C=0.001, gamma=0.01, kernel=linear;, score=-0.003 total time=   0.0s\n",
      "[CV 3/5] END C=0.001, gamma=0.01, kernel=linear;, score=-0.029 total time=   0.0s\n",
      "[CV 4/5] END C=0.001, gamma=0.01, kernel=linear;, score=-0.007 total time=   0.0s\n",
      "[CV 5/5] END C=0.001, gamma=0.01, kernel=linear;, score=-0.061 total time=   0.0s\n",
      "[CV 1/5] END .C=0.001, gamma=0.01, kernel=poly;, score=-0.172 total time=   0.0s\n",
      "[CV 2/5] END .C=0.001, gamma=0.01, kernel=poly;, score=-0.043 total time=   0.0s\n",
      "[CV 3/5] END .C=0.001, gamma=0.01, kernel=poly;, score=-0.059 total time=   0.0s\n",
      "[CV 4/5] END .C=0.001, gamma=0.01, kernel=poly;, score=-0.046 total time=   0.0s\n",
      "[CV 5/5] END .C=0.001, gamma=0.01, kernel=poly;, score=-0.090 total time=   0.0s\n",
      "[CV 1/5] END C=0.001, gamma=0.01, kernel=sigmoid;, score=-0.172 total time=   0.0s\n",
      "[CV 2/5] END C=0.001, gamma=0.01, kernel=sigmoid;, score=-0.043 total time=   0.0s\n",
      "[CV 3/5] END C=0.001, gamma=0.01, kernel=sigmoid;, score=-0.058 total time=   0.0s\n",
      "[CV 4/5] END C=0.001, gamma=0.01, kernel=sigmoid;, score=-0.046 total time=   0.0s\n",
      "[CV 5/5] END C=0.001, gamma=0.01, kernel=sigmoid;, score=-0.090 total time=   0.0s\n",
      "[CV 1/5] END .C=0.001, gamma=0.001, kernel=rbf;, score=-0.172 total time=   0.0s\n",
      "[CV 2/5] END .C=0.001, gamma=0.001, kernel=rbf;, score=-0.043 total time=   0.0s\n",
      "[CV 3/5] END .C=0.001, gamma=0.001, kernel=rbf;, score=-0.059 total time=   0.0s\n",
      "[CV 4/5] END .C=0.001, gamma=0.001, kernel=rbf;, score=-0.046 total time=   0.0s\n",
      "[CV 5/5] END .C=0.001, gamma=0.001, kernel=rbf;, score=-0.090 total time=   0.0s\n",
      "[CV 1/5] END C=0.001, gamma=0.001, kernel=linear;, score=-0.133 total time=   0.0s\n",
      "[CV 2/5] END C=0.001, gamma=0.001, kernel=linear;, score=-0.003 total time=   0.0s\n",
      "[CV 3/5] END C=0.001, gamma=0.001, kernel=linear;, score=-0.029 total time=   0.0s\n",
      "[CV 4/5] END C=0.001, gamma=0.001, kernel=linear;, score=-0.007 total time=   0.0s\n",
      "[CV 5/5] END C=0.001, gamma=0.001, kernel=linear;, score=-0.061 total time=   0.0s\n",
      "[CV 1/5] END C=0.001, gamma=0.001, kernel=poly;, score=-0.172 total time=   0.0s\n",
      "[CV 2/5] END C=0.001, gamma=0.001, kernel=poly;, score=-0.043 total time=   0.0s\n",
      "[CV 3/5] END C=0.001, gamma=0.001, kernel=poly;, score=-0.059 total time=   0.0s\n",
      "[CV 4/5] END C=0.001, gamma=0.001, kernel=poly;, score=-0.046 total time=   0.0s\n",
      "[CV 5/5] END C=0.001, gamma=0.001, kernel=poly;, score=-0.090 total time=   0.0s\n",
      "[CV 1/5] END C=0.001, gamma=0.001, kernel=sigmoid;, score=-0.172 total time=   0.0s\n",
      "[CV 2/5] END C=0.001, gamma=0.001, kernel=sigmoid;, score=-0.043 total time=   0.0s\n",
      "[CV 3/5] END C=0.001, gamma=0.001, kernel=sigmoid;, score=-0.059 total time=   0.0s\n",
      "[CV 4/5] END C=0.001, gamma=0.001, kernel=sigmoid;, score=-0.046 total time=   0.0s\n",
      "[CV 5/5] END C=0.001, gamma=0.001, kernel=sigmoid;, score=-0.090 total time=   0.0s\n",
      "[CV 1/5] END C=0.001, gamma=0.0001, kernel=rbf;, score=-0.172 total time=   0.0s\n",
      "[CV 2/5] END C=0.001, gamma=0.0001, kernel=rbf;, score=-0.043 total time=   0.0s\n",
      "[CV 3/5] END C=0.001, gamma=0.0001, kernel=rbf;, score=-0.059 total time=   0.0s\n",
      "[CV 4/5] END C=0.001, gamma=0.0001, kernel=rbf;, score=-0.046 total time=   0.0s\n",
      "[CV 5/5] END C=0.001, gamma=0.0001, kernel=rbf;, score=-0.090 total time=   0.0s\n",
      "[CV 1/5] END C=0.001, gamma=0.0001, kernel=linear;, score=-0.133 total time=   0.0s\n",
      "[CV 2/5] END C=0.001, gamma=0.0001, kernel=linear;, score=-0.003 total time=   0.0s\n",
      "[CV 3/5] END C=0.001, gamma=0.0001, kernel=linear;, score=-0.029 total time=   0.0s\n",
      "[CV 4/5] END C=0.001, gamma=0.0001, kernel=linear;, score=-0.007 total time=   0.0s\n",
      "[CV 5/5] END C=0.001, gamma=0.0001, kernel=linear;, score=-0.061 total time=   0.0s\n",
      "[CV 1/5] END C=0.001, gamma=0.0001, kernel=poly;, score=-0.172 total time=   0.0s\n",
      "[CV 2/5] END C=0.001, gamma=0.0001, kernel=poly;, score=-0.043 total time=   0.0s\n",
      "[CV 3/5] END C=0.001, gamma=0.0001, kernel=poly;, score=-0.059 total time=   0.0s\n",
      "[CV 4/5] END C=0.001, gamma=0.0001, kernel=poly;, score=-0.046 total time=   0.0s\n",
      "[CV 5/5] END C=0.001, gamma=0.0001, kernel=poly;, score=-0.090 total time=   0.0s\n",
      "[CV 1/5] END C=0.001, gamma=0.0001, kernel=sigmoid;, score=-0.172 total time=   0.0s\n",
      "[CV 2/5] END C=0.001, gamma=0.0001, kernel=sigmoid;, score=-0.043 total time=   0.0s\n",
      "[CV 3/5] END C=0.001, gamma=0.0001, kernel=sigmoid;, score=-0.059 total time=   0.0s\n",
      "[CV 4/5] END C=0.001, gamma=0.0001, kernel=sigmoid;, score=-0.046 total time=   0.0s\n",
      "[CV 5/5] END C=0.001, gamma=0.0001, kernel=sigmoid;, score=-0.090 total time=   0.0s\n",
      "[CV 1/5] END ....C=0.0001, gamma=1, kernel=rbf;, score=-0.172 total time=   0.0s\n",
      "[CV 2/5] END ....C=0.0001, gamma=1, kernel=rbf;, score=-0.043 total time=   0.0s\n",
      "[CV 3/5] END ....C=0.0001, gamma=1, kernel=rbf;, score=-0.059 total time=   0.0s\n",
      "[CV 4/5] END ....C=0.0001, gamma=1, kernel=rbf;, score=-0.046 total time=   0.0s\n",
      "[CV 5/5] END ....C=0.0001, gamma=1, kernel=rbf;, score=-0.090 total time=   0.0s\n",
      "[CV 1/5] END .C=0.0001, gamma=1, kernel=linear;, score=-0.168 total time=   0.0s\n",
      "[CV 2/5] END .C=0.0001, gamma=1, kernel=linear;, score=-0.039 total time=   0.0s\n",
      "[CV 3/5] END .C=0.0001, gamma=1, kernel=linear;, score=-0.055 total time=   0.0s\n",
      "[CV 4/5] END .C=0.0001, gamma=1, kernel=linear;, score=-0.042 total time=   0.0s\n",
      "[CV 5/5] END .C=0.0001, gamma=1, kernel=linear;, score=-0.087 total time=   0.0s\n",
      "[CV 1/5] END ....C=0.0001, gamma=1, kernel=poly;, score=0.304 total time=   0.0s\n",
      "[CV 2/5] END ....C=0.0001, gamma=1, kernel=poly;, score=0.583 total time=   0.0s\n",
      "[CV 3/5] END ....C=0.0001, gamma=1, kernel=poly;, score=0.337 total time=   0.0s\n",
      "[CV 4/5] END ....C=0.0001, gamma=1, kernel=poly;, score=0.572 total time=   0.0s\n",
      "[CV 5/5] END ....C=0.0001, gamma=1, kernel=poly;, score=0.224 total time=   0.0s\n",
      "[CV 1/5] END C=0.0001, gamma=1, kernel=sigmoid;, score=-0.172 total time=   0.0s\n",
      "[CV 2/5] END C=0.0001, gamma=1, kernel=sigmoid;, score=-0.043 total time=   0.0s\n",
      "[CV 3/5] END C=0.0001, gamma=1, kernel=sigmoid;, score=-0.059 total time=   0.0s\n",
      "[CV 4/5] END C=0.0001, gamma=1, kernel=sigmoid;, score=-0.046 total time=   0.0s\n",
      "[CV 5/5] END C=0.0001, gamma=1, kernel=sigmoid;, score=-0.090 total time=   0.0s\n",
      "[CV 1/5] END ..C=0.0001, gamma=0.1, kernel=rbf;, score=-0.172 total time=   0.0s\n",
      "[CV 2/5] END ..C=0.0001, gamma=0.1, kernel=rbf;, score=-0.043 total time=   0.0s\n",
      "[CV 3/5] END ..C=0.0001, gamma=0.1, kernel=rbf;, score=-0.059 total time=   0.0s\n",
      "[CV 4/5] END ..C=0.0001, gamma=0.1, kernel=rbf;, score=-0.046 total time=   0.0s\n",
      "[CV 5/5] END ..C=0.0001, gamma=0.1, kernel=rbf;, score=-0.090 total time=   0.0s\n",
      "[CV 1/5] END C=0.0001, gamma=0.1, kernel=linear;, score=-0.168 total time=   0.0s\n",
      "[CV 2/5] END C=0.0001, gamma=0.1, kernel=linear;, score=-0.039 total time=   0.0s\n",
      "[CV 3/5] END C=0.0001, gamma=0.1, kernel=linear;, score=-0.055 total time=   0.0s\n",
      "[CV 4/5] END C=0.0001, gamma=0.1, kernel=linear;, score=-0.042 total time=   0.0s\n",
      "[CV 5/5] END C=0.0001, gamma=0.1, kernel=linear;, score=-0.087 total time=   0.0s\n",
      "[CV 1/5] END .C=0.0001, gamma=0.1, kernel=poly;, score=-0.154 total time=   0.0s\n",
      "[CV 2/5] END .C=0.0001, gamma=0.1, kernel=poly;, score=-0.014 total time=   0.0s\n",
      "[CV 3/5] END .C=0.0001, gamma=0.1, kernel=poly;, score=-0.040 total time=   0.0s\n",
      "[CV 4/5] END .C=0.0001, gamma=0.1, kernel=poly;, score=-0.019 total time=   0.0s\n",
      "[CV 5/5] END .C=0.0001, gamma=0.1, kernel=poly;, score=-0.077 total time=   0.0s\n",
      "[CV 1/5] END C=0.0001, gamma=0.1, kernel=sigmoid;, score=-0.172 total time=   0.0s\n",
      "[CV 2/5] END C=0.0001, gamma=0.1, kernel=sigmoid;, score=-0.043 total time=   0.0s\n",
      "[CV 3/5] END C=0.0001, gamma=0.1, kernel=sigmoid;, score=-0.059 total time=   0.0s\n",
      "[CV 4/5] END C=0.0001, gamma=0.1, kernel=sigmoid;, score=-0.046 total time=   0.0s\n",
      "[CV 5/5] END C=0.0001, gamma=0.1, kernel=sigmoid;, score=-0.090 total time=   0.0s\n",
      "[CV 1/5] END .C=0.0001, gamma=0.01, kernel=rbf;, score=-0.172 total time=   0.0s\n",
      "[CV 2/5] END .C=0.0001, gamma=0.01, kernel=rbf;, score=-0.043 total time=   0.0s\n",
      "[CV 3/5] END .C=0.0001, gamma=0.01, kernel=rbf;, score=-0.059 total time=   0.0s\n",
      "[CV 4/5] END .C=0.0001, gamma=0.01, kernel=rbf;, score=-0.046 total time=   0.0s\n",
      "[CV 5/5] END .C=0.0001, gamma=0.01, kernel=rbf;, score=-0.090 total time=   0.0s\n",
      "[CV 1/5] END C=0.0001, gamma=0.01, kernel=linear;, score=-0.168 total time=   0.0s\n",
      "[CV 2/5] END C=0.0001, gamma=0.01, kernel=linear;, score=-0.039 total time=   0.0s\n",
      "[CV 3/5] END C=0.0001, gamma=0.01, kernel=linear;, score=-0.055 total time=   0.0s\n",
      "[CV 4/5] END C=0.0001, gamma=0.01, kernel=linear;, score=-0.042 total time=   0.0s\n",
      "[CV 5/5] END C=0.0001, gamma=0.01, kernel=linear;, score=-0.087 total time=   0.0s\n",
      "[CV 1/5] END C=0.0001, gamma=0.01, kernel=poly;, score=-0.172 total time=   0.0s\n",
      "[CV 2/5] END C=0.0001, gamma=0.01, kernel=poly;, score=-0.043 total time=   0.0s\n",
      "[CV 3/5] END C=0.0001, gamma=0.01, kernel=poly;, score=-0.059 total time=   0.0s\n",
      "[CV 4/5] END C=0.0001, gamma=0.01, kernel=poly;, score=-0.046 total time=   0.0s\n",
      "[CV 5/5] END C=0.0001, gamma=0.01, kernel=poly;, score=-0.090 total time=   0.0s\n",
      "[CV 1/5] END C=0.0001, gamma=0.01, kernel=sigmoid;, score=-0.172 total time=   0.0s\n",
      "[CV 2/5] END C=0.0001, gamma=0.01, kernel=sigmoid;, score=-0.043 total time=   0.0s\n",
      "[CV 3/5] END C=0.0001, gamma=0.01, kernel=sigmoid;, score=-0.059 total time=   0.0s\n",
      "[CV 4/5] END C=0.0001, gamma=0.01, kernel=sigmoid;, score=-0.046 total time=   0.0s\n",
      "[CV 5/5] END C=0.0001, gamma=0.01, kernel=sigmoid;, score=-0.090 total time=   0.0s\n",
      "[CV 1/5] END C=0.0001, gamma=0.001, kernel=rbf;, score=-0.172 total time=   0.0s\n",
      "[CV 2/5] END C=0.0001, gamma=0.001, kernel=rbf;, score=-0.043 total time=   0.0s\n",
      "[CV 3/5] END C=0.0001, gamma=0.001, kernel=rbf;, score=-0.059 total time=   0.0s\n",
      "[CV 4/5] END C=0.0001, gamma=0.001, kernel=rbf;, score=-0.046 total time=   0.0s\n",
      "[CV 5/5] END C=0.0001, gamma=0.001, kernel=rbf;, score=-0.090 total time=   0.0s\n",
      "[CV 1/5] END C=0.0001, gamma=0.001, kernel=linear;, score=-0.168 total time=   0.0s\n",
      "[CV 2/5] END C=0.0001, gamma=0.001, kernel=linear;, score=-0.039 total time=   0.0s\n",
      "[CV 3/5] END C=0.0001, gamma=0.001, kernel=linear;, score=-0.055 total time=   0.0s\n",
      "[CV 4/5] END C=0.0001, gamma=0.001, kernel=linear;, score=-0.042 total time=   0.0s\n",
      "[CV 5/5] END C=0.0001, gamma=0.001, kernel=linear;, score=-0.087 total time=   0.0s\n",
      "[CV 1/5] END C=0.0001, gamma=0.001, kernel=poly;, score=-0.172 total time=   0.0s\n",
      "[CV 2/5] END C=0.0001, gamma=0.001, kernel=poly;, score=-0.043 total time=   0.0s\n",
      "[CV 3/5] END C=0.0001, gamma=0.001, kernel=poly;, score=-0.059 total time=   0.0s\n",
      "[CV 4/5] END C=0.0001, gamma=0.001, kernel=poly;, score=-0.046 total time=   0.0s\n",
      "[CV 5/5] END C=0.0001, gamma=0.001, kernel=poly;, score=-0.090 total time=   0.0s\n",
      "[CV 1/5] END C=0.0001, gamma=0.001, kernel=sigmoid;, score=-0.172 total time=   0.0s\n",
      "[CV 2/5] END C=0.0001, gamma=0.001, kernel=sigmoid;, score=-0.043 total time=   0.0s\n",
      "[CV 3/5] END C=0.0001, gamma=0.001, kernel=sigmoid;, score=-0.059 total time=   0.0s\n",
      "[CV 4/5] END C=0.0001, gamma=0.001, kernel=sigmoid;, score=-0.046 total time=   0.0s\n",
      "[CV 5/5] END C=0.0001, gamma=0.001, kernel=sigmoid;, score=-0.090 total time=   0.0s\n",
      "[CV 1/5] END C=0.0001, gamma=0.0001, kernel=rbf;, score=-0.172 total time=   0.0s\n",
      "[CV 2/5] END C=0.0001, gamma=0.0001, kernel=rbf;, score=-0.043 total time=   0.0s\n",
      "[CV 3/5] END C=0.0001, gamma=0.0001, kernel=rbf;, score=-0.059 total time=   0.0s\n",
      "[CV 4/5] END C=0.0001, gamma=0.0001, kernel=rbf;, score=-0.046 total time=   0.0s\n",
      "[CV 5/5] END C=0.0001, gamma=0.0001, kernel=rbf;, score=-0.090 total time=   0.0s\n",
      "[CV 1/5] END C=0.0001, gamma=0.0001, kernel=linear;, score=-0.168 total time=   0.0s\n",
      "[CV 2/5] END C=0.0001, gamma=0.0001, kernel=linear;, score=-0.039 total time=   0.0s\n",
      "[CV 3/5] END C=0.0001, gamma=0.0001, kernel=linear;, score=-0.055 total time=   0.0s\n",
      "[CV 4/5] END C=0.0001, gamma=0.0001, kernel=linear;, score=-0.042 total time=   0.0s\n",
      "[CV 5/5] END C=0.0001, gamma=0.0001, kernel=linear;, score=-0.087 total time=   0.0s\n",
      "[CV 1/5] END C=0.0001, gamma=0.0001, kernel=poly;, score=-0.172 total time=   0.0s\n",
      "[CV 2/5] END C=0.0001, gamma=0.0001, kernel=poly;, score=-0.043 total time=   0.0s\n",
      "[CV 3/5] END C=0.0001, gamma=0.0001, kernel=poly;, score=-0.059 total time=   0.0s\n",
      "[CV 4/5] END C=0.0001, gamma=0.0001, kernel=poly;, score=-0.046 total time=   0.0s\n",
      "[CV 5/5] END C=0.0001, gamma=0.0001, kernel=poly;, score=-0.090 total time=   0.0s\n",
      "[CV 1/5] END C=0.0001, gamma=0.0001, kernel=sigmoid;, score=-0.172 total time=   0.0s\n",
      "[CV 2/5] END C=0.0001, gamma=0.0001, kernel=sigmoid;, score=-0.043 total time=   0.0s\n",
      "[CV 3/5] END C=0.0001, gamma=0.0001, kernel=sigmoid;, score=-0.059 total time=   0.0s\n",
      "[CV 4/5] END C=0.0001, gamma=0.0001, kernel=sigmoid;, score=-0.046 total time=   0.0s\n",
      "[CV 5/5] END C=0.0001, gamma=0.0001, kernel=sigmoid;, score=-0.090 total time=   0.0s\n"
     ]
    },
    {
     "data": {
      "text/html": [
       "<style>#sk-container-id-9 {color: black;}#sk-container-id-9 pre{padding: 0;}#sk-container-id-9 div.sk-toggleable {background-color: white;}#sk-container-id-9 label.sk-toggleable__label {cursor: pointer;display: block;width: 100%;margin-bottom: 0;padding: 0.3em;box-sizing: border-box;text-align: center;}#sk-container-id-9 label.sk-toggleable__label-arrow:before {content: \"▸\";float: left;margin-right: 0.25em;color: #696969;}#sk-container-id-9 label.sk-toggleable__label-arrow:hover:before {color: black;}#sk-container-id-9 div.sk-estimator:hover label.sk-toggleable__label-arrow:before {color: black;}#sk-container-id-9 div.sk-toggleable__content {max-height: 0;max-width: 0;overflow: hidden;text-align: left;background-color: #f0f8ff;}#sk-container-id-9 div.sk-toggleable__content pre {margin: 0.2em;color: black;border-radius: 0.25em;background-color: #f0f8ff;}#sk-container-id-9 input.sk-toggleable__control:checked~div.sk-toggleable__content {max-height: 200px;max-width: 100%;overflow: auto;}#sk-container-id-9 input.sk-toggleable__control:checked~label.sk-toggleable__label-arrow:before {content: \"▾\";}#sk-container-id-9 div.sk-estimator input.sk-toggleable__control:checked~label.sk-toggleable__label {background-color: #d4ebff;}#sk-container-id-9 div.sk-label input.sk-toggleable__control:checked~label.sk-toggleable__label {background-color: #d4ebff;}#sk-container-id-9 input.sk-hidden--visually {border: 0;clip: rect(1px 1px 1px 1px);clip: rect(1px, 1px, 1px, 1px);height: 1px;margin: -1px;overflow: hidden;padding: 0;position: absolute;width: 1px;}#sk-container-id-9 div.sk-estimator {font-family: monospace;background-color: #f0f8ff;border: 1px dotted black;border-radius: 0.25em;box-sizing: border-box;margin-bottom: 0.5em;}#sk-container-id-9 div.sk-estimator:hover {background-color: #d4ebff;}#sk-container-id-9 div.sk-parallel-item::after {content: \"\";width: 100%;border-bottom: 1px solid gray;flex-grow: 1;}#sk-container-id-9 div.sk-label:hover label.sk-toggleable__label {background-color: #d4ebff;}#sk-container-id-9 div.sk-serial::before {content: \"\";position: absolute;border-left: 1px solid gray;box-sizing: border-box;top: 0;bottom: 0;left: 50%;z-index: 0;}#sk-container-id-9 div.sk-serial {display: flex;flex-direction: column;align-items: center;background-color: white;padding-right: 0.2em;padding-left: 0.2em;position: relative;}#sk-container-id-9 div.sk-item {position: relative;z-index: 1;}#sk-container-id-9 div.sk-parallel {display: flex;align-items: stretch;justify-content: center;background-color: white;position: relative;}#sk-container-id-9 div.sk-item::before, #sk-container-id-9 div.sk-parallel-item::before {content: \"\";position: absolute;border-left: 1px solid gray;box-sizing: border-box;top: 0;bottom: 0;left: 50%;z-index: -1;}#sk-container-id-9 div.sk-parallel-item {display: flex;flex-direction: column;z-index: 1;position: relative;background-color: white;}#sk-container-id-9 div.sk-parallel-item:first-child::after {align-self: flex-end;width: 50%;}#sk-container-id-9 div.sk-parallel-item:last-child::after {align-self: flex-start;width: 50%;}#sk-container-id-9 div.sk-parallel-item:only-child::after {width: 0;}#sk-container-id-9 div.sk-dashed-wrapped {border: 1px dashed gray;margin: 0 0.4em 0.5em 0.4em;box-sizing: border-box;padding-bottom: 0.4em;background-color: white;}#sk-container-id-9 div.sk-label label {font-family: monospace;font-weight: bold;display: inline-block;line-height: 1.2em;}#sk-container-id-9 div.sk-label-container {text-align: center;}#sk-container-id-9 div.sk-container {/* jupyter's `normalize.less` sets `[hidden] { display: none; }` but bootstrap.min.css set `[hidden] { display: none !important; }` so we also need the `!important` here to be able to override the default hidden behavior on the sphinx rendered scikit-learn.org. See: https://github.com/scikit-learn/scikit-learn/issues/21755 */display: inline-block !important;position: relative;}#sk-container-id-9 div.sk-text-repr-fallback {display: none;}</style><div id=\"sk-container-id-9\" class=\"sk-top-container\"><div class=\"sk-text-repr-fallback\"><pre>GridSearchCV(estimator=SVR(),\n",
       "             param_grid={&#x27;C&#x27;: [0.1, 0.01, 0.001, 0.0001],\n",
       "                         &#x27;gamma&#x27;: [1, 0.1, 0.01, 0.001, 0.0001],\n",
       "                         &#x27;kernel&#x27;: [&#x27;rbf&#x27;, &#x27;linear&#x27;, &#x27;poly&#x27;, &#x27;sigmoid&#x27;]},\n",
       "             verbose=3)</pre><b>In a Jupyter environment, please rerun this cell to show the HTML representation or trust the notebook. <br />On GitHub, the HTML representation is unable to render, please try loading this page with nbviewer.org.</b></div><div class=\"sk-container\" hidden><div class=\"sk-item sk-dashed-wrapped\"><div class=\"sk-label-container\"><div class=\"sk-label sk-toggleable\"><input class=\"sk-toggleable__control sk-hidden--visually\" id=\"sk-estimator-id-17\" type=\"checkbox\" ><label for=\"sk-estimator-id-17\" class=\"sk-toggleable__label sk-toggleable__label-arrow\">GridSearchCV</label><div class=\"sk-toggleable__content\"><pre>GridSearchCV(estimator=SVR(),\n",
       "             param_grid={&#x27;C&#x27;: [0.1, 0.01, 0.001, 0.0001],\n",
       "                         &#x27;gamma&#x27;: [1, 0.1, 0.01, 0.001, 0.0001],\n",
       "                         &#x27;kernel&#x27;: [&#x27;rbf&#x27;, &#x27;linear&#x27;, &#x27;poly&#x27;, &#x27;sigmoid&#x27;]},\n",
       "             verbose=3)</pre></div></div></div><div class=\"sk-parallel\"><div class=\"sk-parallel-item\"><div class=\"sk-item\"><div class=\"sk-label-container\"><div class=\"sk-label sk-toggleable\"><input class=\"sk-toggleable__control sk-hidden--visually\" id=\"sk-estimator-id-18\" type=\"checkbox\" ><label for=\"sk-estimator-id-18\" class=\"sk-toggleable__label sk-toggleable__label-arrow\">estimator: SVR</label><div class=\"sk-toggleable__content\"><pre>SVR()</pre></div></div></div><div class=\"sk-serial\"><div class=\"sk-item\"><div class=\"sk-estimator sk-toggleable\"><input class=\"sk-toggleable__control sk-hidden--visually\" id=\"sk-estimator-id-19\" type=\"checkbox\" ><label for=\"sk-estimator-id-19\" class=\"sk-toggleable__label sk-toggleable__label-arrow\">SVR</label><div class=\"sk-toggleable__content\"><pre>SVR()</pre></div></div></div></div></div></div></div></div></div></div>"
      ],
      "text/plain": [
       "GridSearchCV(estimator=SVR(),\n",
       "             param_grid={'C': [0.1, 0.01, 0.001, 0.0001],\n",
       "                         'gamma': [1, 0.1, 0.01, 0.001, 0.0001],\n",
       "                         'kernel': ['rbf', 'linear', 'poly', 'sigmoid']},\n",
       "             verbose=3)"
      ]
     },
     "execution_count": 141,
     "metadata": {},
     "output_type": "execute_result"
    }
   ],
   "source": [
    "grid = GridSearchCV(SVR(),param_grid=param_grid, refit=True,verbose=3)\n",
    "grid.fit(X_train,y_train)"
   ]
  },
  {
   "cell_type": "code",
   "execution_count": 142,
   "metadata": {},
   "outputs": [
    {
     "data": {
      "text/plain": [
       "{'C': 0.1, 'gamma': 1, 'kernel': 'linear'}"
      ]
     },
     "execution_count": 142,
     "metadata": {},
     "output_type": "execute_result"
    }
   ],
   "source": [
    "grid.best_params_"
   ]
  },
  {
   "cell_type": "code",
   "execution_count": 143,
   "metadata": {},
   "outputs": [
    {
     "name": "stdout",
     "output_type": "stream",
     "text": [
      "0.6149102116295675\n",
      "4.030203659747184\n"
     ]
    }
   ],
   "source": [
    "y_pred = grid.predict(X_test)\n",
    "from sklearn.metrics import r2_score, mean_absolute_error\n",
    "\n",
    "print(r2_score(y_test,y_pred))\n",
    "print(mean_absolute_error(y_test,y_pred))"
   ]
  },
  {
   "cell_type": "code",
   "execution_count": null,
   "metadata": {},
   "outputs": [],
   "source": []
  },
  {
   "cell_type": "code",
   "execution_count": null,
   "metadata": {},
   "outputs": [],
   "source": []
  }
 ],
 "metadata": {
  "kernelspec": {
   "display_name": "Python 3",
   "language": "python",
   "name": "python3"
  },
  "language_info": {
   "codemirror_mode": {
    "name": "ipython",
    "version": 3
   },
   "file_extension": ".py",
   "mimetype": "text/x-python",
   "name": "python",
   "nbconvert_exporter": "python",
   "pygments_lexer": "ipython3",
   "version": "3.8.20"
  }
 },
 "nbformat": 4,
 "nbformat_minor": 2
}
